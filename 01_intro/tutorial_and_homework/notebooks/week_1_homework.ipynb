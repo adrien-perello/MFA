{
 "cells": [
  {
   "cell_type": "markdown",
   "metadata": {},
   "source": [
    "$\n",
    "\\color{red}\\Downarrow \\color{red}\\Downarrow \\color{red}\\Downarrow \\color{red}\\Downarrow \\color{red}\\Downarrow \\color{red}\\Downarrow\n",
    "\\color{red}\\Downarrow \\color{red}\\Downarrow \\color{red}\\Downarrow \\color{red}\\Downarrow \\color{red}\\Downarrow \\color{red}\\Downarrow\n",
    "\\color{red}\\Downarrow \\color{red}\\Downarrow \\color{red}\\Downarrow \\color{red}\\Downarrow \\color{red}\\Downarrow \\color{red}\\Downarrow\n",
    "\\color{red}\\Downarrow \\color{red}\\Downarrow \\color{red}\\Downarrow \\color{red}\\Downarrow \\color{red}\\Downarrow \\color{red}\\Downarrow\n",
    "\\color{red}\\Downarrow \\color{red}\\Downarrow \\color{red}\\Downarrow \\color{red}\\Downarrow \\color{red}\\Downarrow \\color{red}\\Downarrow\n",
    "\\color{red}\\Downarrow \\color{red}\\Downarrow \\color{red}\\Downarrow \\color{red}\\Downarrow \\color{red}\\Downarrow \\color{red}\\Downarrow \n",
    "$\n",
    "\n",
    "Use the **Pandas cheatsheet** [here](https://github.com/adrien-perello/Computer-Science-Crash-Course/blob/main/02_scientific-computing-libraries/03_pandas_cheatsheet.ipynb) to complete the tasks below\n",
    "\n",
    "$\n",
    "\\color{red}\\Uparrow \\color{red}\\Uparrow \\color{red}\\Uparrow \\color{red}\\Uparrow \\color{red}\\Uparrow \\color{red}\\Uparrow\n",
    "\\color{red}\\Uparrow \\color{red}\\Uparrow \\color{red}\\Uparrow \\color{red}\\Uparrow \\color{red}\\Uparrow \\color{red}\\Uparrow\n",
    "\\color{red}\\Uparrow \\color{red}\\Uparrow \\color{red}\\Uparrow \\color{red}\\Uparrow \\color{red}\\Uparrow \\color{red}\\Uparrow\n",
    "\\color{red}\\Uparrow \\color{red}\\Uparrow \\color{red}\\Uparrow \\color{red}\\Uparrow \\color{red}\\Uparrow \\color{red}\\Uparrow\n",
    "\\color{red}\\Uparrow \\color{red}\\Uparrow \\color{red}\\Uparrow \\color{red}\\Uparrow \\color{red}\\Uparrow \\color{red}\\Uparrow\n",
    "\\color{red}\\Uparrow \\color{red}\\Uparrow \\color{red}\\Uparrow \\color{red}\\Uparrow \\color{red}\\Uparrow \\color{red}\\Uparrow\n",
    "$\n"
   ]
  },
  {
   "cell_type": "markdown",
   "metadata": {},
   "source": [
    "# Load libraries\n"
   ]
  },
  {
   "cell_type": "code",
   "execution_count": null,
   "metadata": {},
   "outputs": [],
   "source": [
    "import os\n",
    "from pathlib import Path\n",
    "\n",
    "import numpy as np\n",
    "import pandas as pd"
   ]
  },
  {
   "cell_type": "code",
   "execution_count": 2,
   "metadata": {},
   "outputs": [
    {
     "name": "stdout",
     "output_type": "stream",
     "text": [
      "/home/adrien/Documents/Github/MFA/01_intro/Pandas_refresher\n"
     ]
    }
   ],
   "source": [
    "# Set the root directory to be able to access other folders in the project\n",
    "\n",
    "CURR_DIR = os.getcwd()  # current working directory\n",
    "BASE_DIR = Path(CURR_DIR).parent  # parent directory\n",
    "print(BASE_DIR)"
   ]
  },
  {
   "cell_type": "markdown",
   "metadata": {},
   "source": [
    "# Import a file and explore the data\n"
   ]
  },
  {
   "cell_type": "code",
   "execution_count": 3,
   "metadata": {},
   "outputs": [
    {
     "data": {
      "text/html": [
       "<div>\n",
       "<style scoped>\n",
       "    .dataframe tbody tr th:only-of-type {\n",
       "        vertical-align: middle;\n",
       "    }\n",
       "\n",
       "    .dataframe tbody tr th {\n",
       "        vertical-align: top;\n",
       "    }\n",
       "\n",
       "    .dataframe thead th {\n",
       "        text-align: right;\n",
       "    }\n",
       "</style>\n",
       "<table border=\"1\" class=\"dataframe\">\n",
       "  <thead>\n",
       "    <tr style=\"text-align: right;\">\n",
       "      <th></th>\n",
       "      <th>year</th>\n",
       "      <th>candies</th>\n",
       "      <th>patatoes</th>\n",
       "      <th>carrots</th>\n",
       "      <th>name</th>\n",
       "    </tr>\n",
       "  </thead>\n",
       "  <tbody>\n",
       "    <tr>\n",
       "      <th>0</th>\n",
       "      <td>1990</td>\n",
       "      <td>20.0</td>\n",
       "      <td>2.0</td>\n",
       "      <td>10.0</td>\n",
       "      <td>Jan</td>\n",
       "    </tr>\n",
       "    <tr>\n",
       "      <th>1</th>\n",
       "      <td>1991</td>\n",
       "      <td>22.0</td>\n",
       "      <td>4.0</td>\n",
       "      <td>20.0</td>\n",
       "      <td>Jan</td>\n",
       "    </tr>\n",
       "    <tr>\n",
       "      <th>2</th>\n",
       "      <td>1992</td>\n",
       "      <td>30.0</td>\n",
       "      <td>9.0</td>\n",
       "      <td>30.0</td>\n",
       "      <td>Piet</td>\n",
       "    </tr>\n",
       "    <tr>\n",
       "      <th>3</th>\n",
       "      <td>1993</td>\n",
       "      <td>33.0</td>\n",
       "      <td>10.0</td>\n",
       "      <td>40.0</td>\n",
       "      <td>Emma</td>\n",
       "    </tr>\n",
       "    <tr>\n",
       "      <th>4</th>\n",
       "      <td>1994</td>\n",
       "      <td>33.0</td>\n",
       "      <td>10.0</td>\n",
       "      <td>50.0</td>\n",
       "      <td>Noah</td>\n",
       "    </tr>\n",
       "    <tr>\n",
       "      <th>5</th>\n",
       "      <td>1995</td>\n",
       "      <td>34.0</td>\n",
       "      <td>10.0</td>\n",
       "      <td>60.0</td>\n",
       "      <td>Emma</td>\n",
       "    </tr>\n",
       "    <tr>\n",
       "      <th>6</th>\n",
       "      <td>1996</td>\n",
       "      <td>40.0</td>\n",
       "      <td>11.0</td>\n",
       "      <td>70.0</td>\n",
       "      <td>Noah</td>\n",
       "    </tr>\n",
       "    <tr>\n",
       "      <th>7</th>\n",
       "      <td>1997</td>\n",
       "      <td>45.0</td>\n",
       "      <td>12.0</td>\n",
       "      <td>80.0</td>\n",
       "      <td>Piet</td>\n",
       "    </tr>\n",
       "    <tr>\n",
       "      <th>8</th>\n",
       "      <td>1998</td>\n",
       "      <td>44.0</td>\n",
       "      <td>13.0</td>\n",
       "      <td>90.0</td>\n",
       "      <td>Piet</td>\n",
       "    </tr>\n",
       "    <tr>\n",
       "      <th>9</th>\n",
       "      <td>1999</td>\n",
       "      <td>46.0</td>\n",
       "      <td>20.0</td>\n",
       "      <td>100.0</td>\n",
       "      <td>Kate</td>\n",
       "    </tr>\n",
       "    <tr>\n",
       "      <th>10</th>\n",
       "      <td>2000</td>\n",
       "      <td>80.0</td>\n",
       "      <td>22.0</td>\n",
       "      <td>110.0</td>\n",
       "      <td>Lisa</td>\n",
       "    </tr>\n",
       "    <tr>\n",
       "      <th>11</th>\n",
       "      <td>2001</td>\n",
       "      <td>88.0</td>\n",
       "      <td>23.0</td>\n",
       "      <td>120.0</td>\n",
       "      <td>Kate</td>\n",
       "    </tr>\n",
       "    <tr>\n",
       "      <th>12</th>\n",
       "      <td>2002</td>\n",
       "      <td>90.0</td>\n",
       "      <td>27.0</td>\n",
       "      <td>130.0</td>\n",
       "      <td>Lisa</td>\n",
       "    </tr>\n",
       "    <tr>\n",
       "      <th>13</th>\n",
       "      <td>2003</td>\n",
       "      <td>100.0</td>\n",
       "      <td>30.0</td>\n",
       "      <td>140.0</td>\n",
       "      <td>Piet</td>\n",
       "    </tr>\n",
       "    <tr>\n",
       "      <th>14</th>\n",
       "      <td>2004</td>\n",
       "      <td>120.0</td>\n",
       "      <td>33.0</td>\n",
       "      <td>150.0</td>\n",
       "      <td>Lisa</td>\n",
       "    </tr>\n",
       "    <tr>\n",
       "      <th>15</th>\n",
       "      <td>2005</td>\n",
       "      <td>123.0</td>\n",
       "      <td>34.0</td>\n",
       "      <td>160.0</td>\n",
       "      <td>Alex</td>\n",
       "    </tr>\n",
       "    <tr>\n",
       "      <th>16</th>\n",
       "      <td>2006</td>\n",
       "      <td>144.0</td>\n",
       "      <td>35.0</td>\n",
       "      <td>170.0</td>\n",
       "      <td>Mia</td>\n",
       "    </tr>\n",
       "    <tr>\n",
       "      <th>17</th>\n",
       "      <td>2007</td>\n",
       "      <td>150.0</td>\n",
       "      <td>50.0</td>\n",
       "      <td>180.0</td>\n",
       "      <td>Jan</td>\n",
       "    </tr>\n",
       "    <tr>\n",
       "      <th>18</th>\n",
       "      <td>2008</td>\n",
       "      <td>170.0</td>\n",
       "      <td>45.0</td>\n",
       "      <td>190.0</td>\n",
       "      <td>Jan</td>\n",
       "    </tr>\n",
       "    <tr>\n",
       "      <th>19</th>\n",
       "      <td>2009</td>\n",
       "      <td>177.0</td>\n",
       "      <td>40.0</td>\n",
       "      <td>200.0</td>\n",
       "      <td>Emma</td>\n",
       "    </tr>\n",
       "    <tr>\n",
       "      <th>20</th>\n",
       "      <td>2010</td>\n",
       "      <td>180.0</td>\n",
       "      <td>39.0</td>\n",
       "      <td>210.0</td>\n",
       "      <td>Alex</td>\n",
       "    </tr>\n",
       "    <tr>\n",
       "      <th>21</th>\n",
       "      <td>2011</td>\n",
       "      <td>NaN</td>\n",
       "      <td>NaN</td>\n",
       "      <td>NaN</td>\n",
       "      <td>NaN</td>\n",
       "    </tr>\n",
       "  </tbody>\n",
       "</table>\n",
       "</div>"
      ],
      "text/plain": [
       "    year  candies  patatoes  carrots  name\n",
       "0   1990     20.0       2.0     10.0   Jan\n",
       "1   1991     22.0       4.0     20.0   Jan\n",
       "2   1992     30.0       9.0     30.0  Piet\n",
       "3   1993     33.0      10.0     40.0  Emma\n",
       "4   1994     33.0      10.0     50.0  Noah\n",
       "5   1995     34.0      10.0     60.0  Emma\n",
       "6   1996     40.0      11.0     70.0  Noah\n",
       "7   1997     45.0      12.0     80.0  Piet\n",
       "8   1998     44.0      13.0     90.0  Piet\n",
       "9   1999     46.0      20.0    100.0  Kate\n",
       "10  2000     80.0      22.0    110.0  Lisa\n",
       "11  2001     88.0      23.0    120.0  Kate\n",
       "12  2002     90.0      27.0    130.0  Lisa\n",
       "13  2003    100.0      30.0    140.0  Piet\n",
       "14  2004    120.0      33.0    150.0  Lisa\n",
       "15  2005    123.0      34.0    160.0  Alex\n",
       "16  2006    144.0      35.0    170.0   Mia\n",
       "17  2007    150.0      50.0    180.0   Jan\n",
       "18  2008    170.0      45.0    190.0   Jan\n",
       "19  2009    177.0      40.0    200.0  Emma\n",
       "20  2010    180.0      39.0    210.0  Alex\n",
       "21  2011      NaN       NaN      NaN   NaN"
      ]
     },
     "execution_count": 3,
     "metadata": {},
     "output_type": "execute_result"
    }
   ],
   "source": [
    "# Import the \"commodities.csv\" file in the data folder\n",
    "# (look for the \"Read and write data from external files\" section\n",
    "# in the pandas cheatsheet)\n",
    "\n",
    "# ! ANSWER\n",
    "file_path = BASE_DIR / \"data\" / \"raw\" / \"commodities.csv\"\n",
    "commodities = pd.read_csv(file_path)\n",
    "commodities"
   ]
  },
  {
   "cell_type": "code",
   "execution_count": 4,
   "metadata": {},
   "outputs": [
    {
     "data": {
      "text/html": [
       "<div>\n",
       "<style scoped>\n",
       "    .dataframe tbody tr th:only-of-type {\n",
       "        vertical-align: middle;\n",
       "    }\n",
       "\n",
       "    .dataframe tbody tr th {\n",
       "        vertical-align: top;\n",
       "    }\n",
       "\n",
       "    .dataframe thead th {\n",
       "        text-align: right;\n",
       "    }\n",
       "</style>\n",
       "<table border=\"1\" class=\"dataframe\">\n",
       "  <thead>\n",
       "    <tr style=\"text-align: right;\">\n",
       "      <th></th>\n",
       "      <th>year</th>\n",
       "      <th>candies</th>\n",
       "      <th>patatoes</th>\n",
       "      <th>carrots</th>\n",
       "      <th>name</th>\n",
       "    </tr>\n",
       "  </thead>\n",
       "  <tbody>\n",
       "    <tr>\n",
       "      <th>0</th>\n",
       "      <td>1990</td>\n",
       "      <td>20.0</td>\n",
       "      <td>2.0</td>\n",
       "      <td>10.0</td>\n",
       "      <td>Jan</td>\n",
       "    </tr>\n",
       "    <tr>\n",
       "      <th>1</th>\n",
       "      <td>1991</td>\n",
       "      <td>22.0</td>\n",
       "      <td>4.0</td>\n",
       "      <td>20.0</td>\n",
       "      <td>Jan</td>\n",
       "    </tr>\n",
       "    <tr>\n",
       "      <th>2</th>\n",
       "      <td>1992</td>\n",
       "      <td>30.0</td>\n",
       "      <td>9.0</td>\n",
       "      <td>30.0</td>\n",
       "      <td>Piet</td>\n",
       "    </tr>\n",
       "    <tr>\n",
       "      <th>3</th>\n",
       "      <td>1993</td>\n",
       "      <td>33.0</td>\n",
       "      <td>10.0</td>\n",
       "      <td>40.0</td>\n",
       "      <td>Emma</td>\n",
       "    </tr>\n",
       "    <tr>\n",
       "      <th>4</th>\n",
       "      <td>1994</td>\n",
       "      <td>33.0</td>\n",
       "      <td>10.0</td>\n",
       "      <td>50.0</td>\n",
       "      <td>Noah</td>\n",
       "    </tr>\n",
       "    <tr>\n",
       "      <th>5</th>\n",
       "      <td>1995</td>\n",
       "      <td>34.0</td>\n",
       "      <td>10.0</td>\n",
       "      <td>60.0</td>\n",
       "      <td>Emma</td>\n",
       "    </tr>\n",
       "    <tr>\n",
       "      <th>6</th>\n",
       "      <td>1996</td>\n",
       "      <td>40.0</td>\n",
       "      <td>11.0</td>\n",
       "      <td>70.0</td>\n",
       "      <td>Noah</td>\n",
       "    </tr>\n",
       "    <tr>\n",
       "      <th>7</th>\n",
       "      <td>1997</td>\n",
       "      <td>45.0</td>\n",
       "      <td>12.0</td>\n",
       "      <td>80.0</td>\n",
       "      <td>Piet</td>\n",
       "    </tr>\n",
       "    <tr>\n",
       "      <th>8</th>\n",
       "      <td>1998</td>\n",
       "      <td>44.0</td>\n",
       "      <td>13.0</td>\n",
       "      <td>90.0</td>\n",
       "      <td>Piet</td>\n",
       "    </tr>\n",
       "    <tr>\n",
       "      <th>9</th>\n",
       "      <td>1999</td>\n",
       "      <td>46.0</td>\n",
       "      <td>20.0</td>\n",
       "      <td>100.0</td>\n",
       "      <td>Kate</td>\n",
       "    </tr>\n",
       "    <tr>\n",
       "      <th>10</th>\n",
       "      <td>2000</td>\n",
       "      <td>80.0</td>\n",
       "      <td>22.0</td>\n",
       "      <td>110.0</td>\n",
       "      <td>Lisa</td>\n",
       "    </tr>\n",
       "    <tr>\n",
       "      <th>11</th>\n",
       "      <td>2001</td>\n",
       "      <td>88.0</td>\n",
       "      <td>23.0</td>\n",
       "      <td>120.0</td>\n",
       "      <td>Kate</td>\n",
       "    </tr>\n",
       "    <tr>\n",
       "      <th>12</th>\n",
       "      <td>2002</td>\n",
       "      <td>90.0</td>\n",
       "      <td>27.0</td>\n",
       "      <td>130.0</td>\n",
       "      <td>Lisa</td>\n",
       "    </tr>\n",
       "    <tr>\n",
       "      <th>13</th>\n",
       "      <td>2003</td>\n",
       "      <td>100.0</td>\n",
       "      <td>30.0</td>\n",
       "      <td>140.0</td>\n",
       "      <td>Piet</td>\n",
       "    </tr>\n",
       "    <tr>\n",
       "      <th>14</th>\n",
       "      <td>2004</td>\n",
       "      <td>120.0</td>\n",
       "      <td>33.0</td>\n",
       "      <td>150.0</td>\n",
       "      <td>Lisa</td>\n",
       "    </tr>\n",
       "    <tr>\n",
       "      <th>15</th>\n",
       "      <td>2005</td>\n",
       "      <td>123.0</td>\n",
       "      <td>34.0</td>\n",
       "      <td>160.0</td>\n",
       "      <td>Alex</td>\n",
       "    </tr>\n",
       "    <tr>\n",
       "      <th>16</th>\n",
       "      <td>2006</td>\n",
       "      <td>144.0</td>\n",
       "      <td>35.0</td>\n",
       "      <td>170.0</td>\n",
       "      <td>Mia</td>\n",
       "    </tr>\n",
       "    <tr>\n",
       "      <th>17</th>\n",
       "      <td>2007</td>\n",
       "      <td>150.0</td>\n",
       "      <td>50.0</td>\n",
       "      <td>180.0</td>\n",
       "      <td>Jan</td>\n",
       "    </tr>\n",
       "    <tr>\n",
       "      <th>18</th>\n",
       "      <td>2008</td>\n",
       "      <td>170.0</td>\n",
       "      <td>45.0</td>\n",
       "      <td>190.0</td>\n",
       "      <td>Jan</td>\n",
       "    </tr>\n",
       "    <tr>\n",
       "      <th>19</th>\n",
       "      <td>2009</td>\n",
       "      <td>177.0</td>\n",
       "      <td>40.0</td>\n",
       "      <td>200.0</td>\n",
       "      <td>Emma</td>\n",
       "    </tr>\n",
       "    <tr>\n",
       "      <th>20</th>\n",
       "      <td>2010</td>\n",
       "      <td>180.0</td>\n",
       "      <td>39.0</td>\n",
       "      <td>210.0</td>\n",
       "      <td>Alex</td>\n",
       "    </tr>\n",
       "    <tr>\n",
       "      <th>21</th>\n",
       "      <td>2011</td>\n",
       "      <td>NaN</td>\n",
       "      <td>NaN</td>\n",
       "      <td>NaN</td>\n",
       "      <td>NaN</td>\n",
       "    </tr>\n",
       "  </tbody>\n",
       "</table>\n",
       "</div>"
      ],
      "text/plain": [
       "    year  candies  patatoes  carrots  name\n",
       "0   1990     20.0       2.0     10.0   Jan\n",
       "1   1991     22.0       4.0     20.0   Jan\n",
       "2   1992     30.0       9.0     30.0  Piet\n",
       "3   1993     33.0      10.0     40.0  Emma\n",
       "4   1994     33.0      10.0     50.0  Noah\n",
       "5   1995     34.0      10.0     60.0  Emma\n",
       "6   1996     40.0      11.0     70.0  Noah\n",
       "7   1997     45.0      12.0     80.0  Piet\n",
       "8   1998     44.0      13.0     90.0  Piet\n",
       "9   1999     46.0      20.0    100.0  Kate\n",
       "10  2000     80.0      22.0    110.0  Lisa\n",
       "11  2001     88.0      23.0    120.0  Kate\n",
       "12  2002     90.0      27.0    130.0  Lisa\n",
       "13  2003    100.0      30.0    140.0  Piet\n",
       "14  2004    120.0      33.0    150.0  Lisa\n",
       "15  2005    123.0      34.0    160.0  Alex\n",
       "16  2006    144.0      35.0    170.0   Mia\n",
       "17  2007    150.0      50.0    180.0   Jan\n",
       "18  2008    170.0      45.0    190.0   Jan\n",
       "19  2009    177.0      40.0    200.0  Emma\n",
       "20  2010    180.0      39.0    210.0  Alex\n",
       "21  2011      NaN       NaN      NaN   NaN"
      ]
     },
     "execution_count": 4,
     "metadata": {},
     "output_type": "execute_result"
    }
   ],
   "source": [
    "# Import the commodities sheet from the 'MFA_II_pandas_exercise.xlsx' file\n",
    "\n",
    "# ! ANSWER\n",
    "file_path = BASE_DIR / \"data\" / \"raw\" / \"MFA_II_pandas_exercise.xlsx\"\n",
    "commodities = pd.read_excel(file_path, sheet_name=\"commodities\")\n",
    "commodities"
   ]
  },
  {
   "cell_type": "markdown",
   "metadata": {},
   "source": [
    "**Follow up questions:**\n",
    "\n",
    "What happens if you load the Excel file without specifying a sheet?\n",
    "\n",
    "1. How does pandas handle multi-sheet Excel files by default?\n",
    "2. What type of data structure does `pd.read_excel()` return in this case?\n",
    "3. Can you still access the data from individual sheets after loading the file without specifying a sheet?\n",
    "\n",
    "Same questions as above, but with `sheet_name = None`\n"
   ]
  },
  {
   "cell_type": "markdown",
   "metadata": {},
   "source": [
    "**ANSWERS**\n"
   ]
  },
  {
   "cell_type": "markdown",
   "metadata": {},
   "source": [
    "...\n"
   ]
  },
  {
   "cell_type": "code",
   "execution_count": 5,
   "metadata": {},
   "outputs": [],
   "source": [
    "# get an overview of the data by printing\n",
    "# 1) technical information about the dataframe\n",
    "# 2) the number of the rows and columns\n",
    "# 3) the first and/or last 3 rows of the dataframe\n",
    "# 4) the name of the columns and of the index\n",
    "\n",
    "# ! ANSWERS"
   ]
  },
  {
   "cell_type": "markdown",
   "metadata": {},
   "source": [
    "# Select columns\n"
   ]
  },
  {
   "cell_type": "code",
   "execution_count": 6,
   "metadata": {},
   "outputs": [],
   "source": [
    "# Display the \"year\" column\n",
    "# 1) using []\n",
    "# 2) using .loc[]\n",
    "# 3) using .iloc[]\n",
    "\n",
    "# ! ANSWERS"
   ]
  },
  {
   "cell_type": "markdown",
   "metadata": {},
   "source": [
    "**Follow up questions:**\n",
    "\n",
    "4. How do `[]`, `.loc[]`, and `.iloc[]` differ in their approach to selecting columns?\n",
    "\n",
    "   - What type of inputs do each of them accept?\n",
    "   - How does their output differ (if at all) in this case?\n",
    "\n",
    "5. What happens if the column name changes or is misspelled in the dataset? What error is raised?\n",
    "\n",
    "6. What happens if you try to use `.iloc[]` with a column index that doesn't exist? What error is raised? What about with negative numbers (e.g. -1 or -2)?\n",
    "\n",
    "7. What are the advantages of using `.loc[]` vs `.iloc[]`? In what situations would one method be preferable over the others?\n"
   ]
  },
  {
   "cell_type": "markdown",
   "metadata": {},
   "source": [
    "**ANSWERS**\n"
   ]
  },
  {
   "cell_type": "markdown",
   "metadata": {},
   "source": [
    "...\n"
   ]
  },
  {
   "cell_type": "code",
   "execution_count": 7,
   "metadata": {},
   "outputs": [],
   "source": [
    "# Display multiple columns at once (e.g. \"candies\" and \"patatoes\")\n",
    "# using each of the 3 methods\n",
    "\n",
    "# ! ANSWERS"
   ]
  },
  {
   "cell_type": "markdown",
   "metadata": {},
   "source": [
    "# Reindex\n"
   ]
  },
  {
   "cell_type": "code",
   "execution_count": 8,
   "metadata": {},
   "outputs": [],
   "source": [
    "# Set \"year\" as Index\n",
    "# make sure the change is permanent (2 options)\n",
    "\n",
    "# ANSWER"
   ]
  },
  {
   "cell_type": "markdown",
   "metadata": {},
   "source": [
    "**Follow up questions:**\n",
    "\n",
    "8. what data structure does each option returns?\n",
    "9. How can you reset the index back to the default integer index?\n",
    "10. What happens if you try to set an index on a column that doesn’t exist?\n",
    "11. Can you set multiple columns as an index? If so, how?\n"
   ]
  },
  {
   "cell_type": "markdown",
   "metadata": {},
   "source": [
    "**ANSWERS**\n"
   ]
  },
  {
   "cell_type": "markdown",
   "metadata": {},
   "source": [
    "...\n"
   ]
  },
  {
   "cell_type": "markdown",
   "metadata": {},
   "source": [
    "# Slice the data\n"
   ]
  },
  {
   "cell_type": "code",
   "execution_count": 9,
   "metadata": {},
   "outputs": [],
   "source": [
    "# Display the number of each commodity for the year 2000\n",
    "# in a single line of code.\n",
    "# Provide solutions using both .loc[] and .iloc[].\n",
    "\n",
    "# ! ANSWER"
   ]
  },
  {
   "cell_type": "code",
   "execution_count": 10,
   "metadata": {},
   "outputs": [],
   "source": [
    "# Select the 'patatoes' and 'carrots' columns together\n",
    "# for the year 2000, in a single line of code.\n",
    "# Provide solutions using both .loc[] and .iloc[].\n",
    "\n",
    "# ! ANSWER"
   ]
  },
  {
   "cell_type": "code",
   "execution_count": 11,
   "metadata": {},
   "outputs": [],
   "source": [
    "# Do the same (show patatoes and carrots together)\n",
    "# but for the year 2000 AND 2010.\n",
    "# Provide solutions using both .loc[] and .iloc[].\n",
    "\n",
    "# ! ANSWER"
   ]
  },
  {
   "cell_type": "markdown",
   "metadata": {},
   "source": [
    "**Follow up questions:**\n",
    "\n",
    "12. How would you select data for all years greater than 1995?\n",
    "13. How would you select data for all years greater than 1995 and less than 2005?\n",
    "14. How would you select data related either to `Alex` or `Lisa`?\n",
    "15. load `commodity_alt.csv`, set `year` as index and try to access the data for the year 2000. Do you encounter any problem? If so, why is that?\n",
    "\n",
    "For the first two questions, try both using `:` and **boolean mask**.\n"
   ]
  },
  {
   "cell_type": "markdown",
   "metadata": {},
   "source": [
    "**ANSWERS**\n"
   ]
  },
  {
   "cell_type": "markdown",
   "metadata": {},
   "source": [
    "...\n"
   ]
  },
  {
   "cell_type": "markdown",
   "metadata": {},
   "source": [
    "# Clean the data\n"
   ]
  },
  {
   "cell_type": "code",
   "execution_count": 12,
   "metadata": {},
   "outputs": [],
   "source": [
    "# rename the column that has a typo\n",
    "\n",
    "# ! ANSWER"
   ]
  },
  {
   "cell_type": "markdown",
   "metadata": {},
   "source": [
    "**Follow up questions:**\n",
    "\n",
    "16. What happens if you try to rename a column that doesn’t exist in the DataFrame?\n",
    "17. Is renaming case-sensitive? What if you accidentally change \"Patatoes\" to \"Potatoes\" but the original column is lowercase?\n"
   ]
  },
  {
   "cell_type": "markdown",
   "metadata": {},
   "source": [
    "**ANSWERS**\n",
    "\n",
    "...\n"
   ]
  },
  {
   "cell_type": "code",
   "execution_count": 13,
   "metadata": {},
   "outputs": [],
   "source": [
    "# Remove the rows that are empty\n",
    "\n",
    "# ! ANSWER"
   ]
  },
  {
   "cell_type": "markdown",
   "metadata": {},
   "source": [
    "**Follow up questions:**\n",
    "\n",
    "18. What happens if there are only some missing values in a row? Does .dropna() remove the whole row?\n",
    "19. How could you replace missing values instead of removing them?\n"
   ]
  },
  {
   "cell_type": "markdown",
   "metadata": {},
   "source": [
    "**ANSWERS**\n"
   ]
  },
  {
   "cell_type": "markdown",
   "metadata": {},
   "source": [
    "...\n"
   ]
  },
  {
   "cell_type": "markdown",
   "metadata": {},
   "source": [
    "# Plot data\n"
   ]
  },
  {
   "cell_type": "code",
   "execution_count": 14,
   "metadata": {},
   "outputs": [],
   "source": [
    "# Load the \"wasteStatistics\" sheet of the \"MFA_II_pandas_exercise.xlsx\" file,\n",
    "\n",
    "# ! ANSWER"
   ]
  },
  {
   "cell_type": "code",
   "execution_count": 15,
   "metadata": {},
   "outputs": [],
   "source": [
    "# Plot residual waste over the years (x-axis should be the year)\n",
    "\n",
    "# ! ANSWER"
   ]
  },
  {
   "cell_type": "markdown",
   "metadata": {},
   "source": [
    "**Follow up questions:**\n",
    "\n",
    "20. How can you customize the plot to add a title and axis labels? Change the plot size?\n",
    "21. Assuming the unit is kilograms, how would you display the results in tonnes?\n"
   ]
  },
  {
   "cell_type": "markdown",
   "metadata": {},
   "source": [
    "**ANSWERS**\n"
   ]
  },
  {
   "cell_type": "markdown",
   "metadata": {},
   "source": [
    "...\n"
   ]
  },
  {
   "cell_type": "code",
   "execution_count": 16,
   "metadata": {},
   "outputs": [],
   "source": [
    "# Plot all types of waste stacked over the years in one single plot\n",
    "\n",
    "# ! ANSWER"
   ]
  },
  {
   "cell_type": "markdown",
   "metadata": {},
   "source": [
    "# Mean, sum, maximum and minimum\n"
   ]
  },
  {
   "cell_type": "code",
   "execution_count": 17,
   "metadata": {},
   "outputs": [],
   "source": [
    "# Calculate the mean, sum, minimum, and maximum for each year\n",
    "# without using a loop. Save the results in a separate column.\n",
    "\n",
    "# ! ANSWER"
   ]
  },
  {
   "cell_type": "code",
   "execution_count": 18,
   "metadata": {},
   "outputs": [],
   "source": [
    "# still without using a loop, perform the following calculations:\n",
    "# 1) the cumulative sum of organic waste over the years.\n",
    "# 2) the year-over-year difference in chemical waste\n",
    "# (i.e., the difference between each year and the previous one)\n",
    "# save the results in separate columns\n",
    "\n",
    "# ! ANSWER"
   ]
  },
  {
   "cell_type": "markdown",
   "metadata": {},
   "source": [
    "**Follow up questions:**\n",
    "\n",
    "22. What would happen if the dataset was not sorted by year before performing these operations?\n",
    "23. What happens to the first row when calculating differences on a column with pandas? Why?\n",
    "24. How can you modify the result so it shows 0 instead?\n",
    "25. In some cases, we may want the first difference to be calculated from a specific **non-zero** starting value. How can we achieve this using numpy? How would you save the result (a numpy array) in a new column?\n"
   ]
  },
  {
   "cell_type": "markdown",
   "metadata": {},
   "source": [
    "**ANSWERS**\n"
   ]
  },
  {
   "cell_type": "markdown",
   "metadata": {},
   "source": [
    "...\n"
   ]
  },
  {
   "cell_type": "markdown",
   "metadata": {},
   "source": [
    "# Export file\n"
   ]
  },
  {
   "cell_type": "code",
   "execution_count": 19,
   "metadata": {},
   "outputs": [],
   "source": [
    "# save the results as a csv file\n",
    "\n",
    "# ! ANSWER"
   ]
  },
  {
   "cell_type": "markdown",
   "metadata": {},
   "source": [
    "# Structure your project\n"
   ]
  },
  {
   "cell_type": "markdown",
   "metadata": {},
   "source": [
    "We recommend following this folder structure, especially for larger projects like your thesis.\n",
    "\n",
    "For the final assignment, you only need a **single Python script** that implements all three steps: data cleaning, analysis, and visualization.\n",
    "\n",
    "```bash\n",
    "project_name/\n",
    "│── data/\n",
    "│   ├── raw/          # Original data as downloaded (never modified)\n",
    "│   ├── interim/      # Data after initial cleaning/preprocessing\n",
    "│   ├── processed/    # Final, analysis-ready datasets\n",
    "│\n",
    "│── docs/\n",
    "│   ├── assignment.pdf  # Assignment details\n",
    "│   ├── references/     # Supporting materials (papers, articles, etc.)\n",
    "│\n",
    "│── img/               # Any images used (logos, schematics, etc.)\n",
    "│\n",
    "│── notebooks/\n",
    "│   ├── 00_exploratory.ipynb    # Initial exploration\n",
    "│   ├── 01_cleaning.ipynb       # Data cleaning & transformation\n",
    "│   ├── 02_analysis.ipynb       # Core computations & analysis\n",
    "│   ├── 03_visualization.ipynb  # Final graphs & insights\n",
    "│\n",
    "│── scripts/\n",
    "│   ├── 01_cleaning.py        # code for data cleaning & transformation\n",
    "│   ├── 02_analysis.py        # Core computations & analysis\n",
    "│   ├── 03_visualization.py   # Final plotting & insights\n",
    "│\n",
    "│── reports/\n",
    "│   ├── figures/       # Saved plots and figures\n",
    "│   ├── final_report_or_poster.pdf  # Final report or presentation\n",
    "│\n",
    "│── environment.yml    # Python dependencies (for Anaconda / Mamba)\n",
    "│── requirements.txt   # Python dependencies (for Pip / Virtualenv)\n",
    "```\n"
   ]
  },
  {
   "cell_type": "markdown",
   "metadata": {},
   "source": [
    "**Note**: to export a jupyter notebook file as a python script, click on `Save and Export Notebook As` > `Executable Script`.  \n",
    "Don't forget to test the script to make sure everything works as intented.\n",
    "\n",
    "![\"export as .py\"](../img/export_as_python_script.png)\n"
   ]
  },
  {
   "cell_type": "markdown",
   "metadata": {},
   "source": [
    "# More information and tips\n"
   ]
  },
  {
   "cell_type": "markdown",
   "metadata": {},
   "source": [
    "The internet is your best friend for all Python-related questions! :smiley: You’ll find explanations, examples, and solutions for functions, errors, and code snippets online.\n",
    "\n",
    "💡 How to search effectively?  \n",
    "Use Google to look up functions or code, for example: `pandas combine data frames`\n",
    "\n",
    "💡 LLMs can also be helpful...  \n",
    "...but use them wisely—double-check answers with official documentation and make sure to always understand how the code works\n",
    "\n",
    "📚 Resources:\n",
    "\n",
    "- Forums: Especially check [Stackoverflow](https://stackoverflow.com/questions/tagged/pandas?tab=Frequent)\n",
    "- Pandas: check\n",
    "  - the [Pandas User Guide](https://pandas.pydata.org/docs/user_guide/10min.html)\n",
    "  - the [Pandas API reference](https://pandas.pydata.org/docs/reference/frame.html),\n",
    "  - the [W3school doc](https://www.w3schools.com/python/pandas/default.asp)\n",
    "  - this [github repo](https://github.com/adrien-perello/Computer-Science-Crash-Course/blob/main/02_scientific-computing-libraries/03_pandas_cheatsheet.ipynb)\n",
    "- Numpy:\n",
    "  - the [Numpy User Guide](https://numpy.org/doc/stable/user/basics.html),\n",
    "  - the [Numpy API reference](https://numpy.org/doc/stable/reference/module_structure.html),\n",
    "  - the [W3school doc](https://www.w3schools.com/python/numpy/default.asp)\n",
    "  - this [github repo](https://github.com/adrien-perello/Computer-Science-Crash-Course/blob/main/02_scientific-computing-libraries/02_numpy-cheatsheet.ipynb)\n",
    "- Need a python refresher?\n",
    "  - check the [official Python doc](https://docs.python.org/3/tutorial/)\n",
    "  - the [W3school](https://www.w3schools.com/python/default.asp)\n",
    "  - this [github repo](https://github.com/adrien-perello/Computer-Science-Crash-Course/tree/main/01_introduction-to-python)\n"
   ]
  }
 ],
 "metadata": {
  "kernelspec": {
   "display_name": "dmfa",
   "language": "python",
   "name": "python3"
  },
  "language_info": {
   "codemirror_mode": {
    "name": "ipython",
    "version": 3
   },
   "file_extension": ".py",
   "mimetype": "text/x-python",
   "name": "python",
   "nbconvert_exporter": "python",
   "pygments_lexer": "ipython3",
   "version": "3.13.2"
  }
 },
 "nbformat": 4,
 "nbformat_minor": 4
}
