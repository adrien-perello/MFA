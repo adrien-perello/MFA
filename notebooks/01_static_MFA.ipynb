{
 "cells": [
  {
   "cell_type": "code",
   "execution_count": 1,
   "metadata": {},
   "outputs": [],
   "source": [
    "import warnings\n",
    "import pandas as pd\n",
    "import numpy as np\n",
    "from scipy.linalg import inv, pinv, LinAlgError"
   ]
  },
  {
   "attachments": {},
   "cell_type": "markdown",
   "metadata": {},
   "source": [
    "# Framework\n",
    "\n",
    "The system is considered in a steady-state"
   ]
  },
  {
   "attachments": {},
   "cell_type": "markdown",
   "metadata": {},
   "source": [
    "![static mfa](../img/static_mfa.jpg)   \n",
    "Source: Lupton & Allwood (2018)\n",
    "  \n",
    "  \n",
    "$\\begin{cases}q_j + \\sum\\limits_{i=0}^nz_{ij} = \\sum\\limits_{i=0}^mz_{jk} \\\\ z_{jk} = \\text{TC}_{jk} \\begin{pmatrix}q_j + \\sum\\limits_{i=0}^nz_{ij}\\end{pmatrix}\\end{cases}$"
   ]
  },
  {
   "attachments": {},
   "cell_type": "markdown",
   "metadata": {},
   "source": [
    "# Utility functions"
   ]
  },
  {
   "cell_type": "code",
   "execution_count": 2,
   "metadata": {},
   "outputs": [],
   "source": [
    "def get_data(filepath, xlsx_map):\n",
    "    xlsx_file = pd.read_excel(filepath, sheet_name=None)\n",
    "    TC = xlsx_map[\"transfer_coefficient\"]\n",
    "    FLOWS = xlsx_map[\"flows\"]\n",
    "    df_TC = xlsx_file[TC[\"sheet\"]].rename(columns=xlsx_map[\"transfer_coefficient\"])\n",
    "    df_flows = xlsx_file[FLOWS[\"sheet\"]].rename(columns=xlsx_map[\"flows\"])\n",
    "    return [df_TC, df_flows]\n",
    "\n",
    "\n",
    "def solve(_in, _out, y, coeff, singular=False):\n",
    "    \"\"\"X = AX + y\"\"\"\n",
    "    A = coeff[:, None] * (_in == _out[:, None])\n",
    "    I = np.eye(len(A))\n",
    "    L = pinv(I - A) if singular else inv(I - A)\n",
    "    return L @ y\n",
    "\n",
    "\n",
    "def solve_subsystem(df, *columns):\n",
    "    _from, _to, _val, _pct = columns\n",
    "    arr_from = df[_from].values\n",
    "    arr_to = df[_to].values\n",
    "    arr_pct = df[_pct].fillna(0).values\n",
    "    arr_val = df[_val].fillna(0).values\n",
    "    try:\n",
    "        result = solve(_in=arr_to, _out=arr_from, y=arr_val, coeff=arr_pct)\n",
    "    except LinAlgError as err:\n",
    "        if 'singular matrix' in str(err):\n",
    "            idx = list(df.set_index(list(df.columns.difference(columns))).index.unique())\n",
    "            warnings.warn(f\"singular matrix detected at {idx}. \"\n",
    "                        \"Defaulted on scipy.linalg.pinv for calculations\")\n",
    "            result = solve(_in=arr_to, _out=arr_from, y=arr_val, coeff=arr_pct, singular=True)\n",
    "        else:\n",
    "            raise\n",
    "    return list(zip(arr_from, arr_to, result))\n",
    "\n",
    "\n",
    "def explode(df, *columns):\n",
    "    _from, _to, _val, _pct = columns\n",
    "    df = df.explode()\n",
    "    return pd.DataFrame(\n",
    "        data=df.values.tolist(), \n",
    "        index=df.index, \n",
    "        columns=[_from, _to, _val],\n",
    "    )\n",
    "\n",
    "\n",
    "def compute_system(filepath, xlsx_map, *columns):\n",
    "    df_TC, df_flows = get_data(filepath, xlsx_map)\n",
    "    other_columns = df_flows.columns.union(df_TC.columns).difference(columns)\n",
    "    system_state = (\n",
    "        pd.concat([df_flows, df_TC])\n",
    "        .groupby(list(other_columns))\n",
    "        .apply(solve_subsystem, *columns)\n",
    "    )\n",
    "    return explode(system_state, *columns)"
   ]
  },
  {
   "attachments": {},
   "cell_type": "markdown",
   "metadata": {},
   "source": [
    "# Application"
   ]
  },
  {
   "cell_type": "code",
   "execution_count": 3,
   "metadata": {},
   "outputs": [],
   "source": [
    "FILEPATH = \"../data/dummy_data.xlsx\""
   ]
  },
  {
   "cell_type": "code",
   "execution_count": 4,
   "metadata": {},
   "outputs": [],
   "source": [
    "FROM, TO, VAL, PCT = ('_from', '_to', '_val', '_pct')\n",
    "\n",
    "XLSX_MAP = {\n",
    "    # flows\n",
    "    \"flows\": {\"sheet\": \"inputs\", \n",
    "        \"processFrom\": FROM, \"processTo\": TO, \"value\": VAL},\n",
    "    # TCs\n",
    "    \"transfer_coefficient\": { \"sheet\": \"trans_coeff\", \n",
    "        \"processFrom\": FROM, \"processTo\": TO, \"tc\": PCT},\n",
    "}"
   ]
  },
  {
   "cell_type": "code",
   "execution_count": 5,
   "metadata": {},
   "outputs": [
    {
     "data": {
      "text/html": [
       "<div>\n",
       "<style scoped>\n",
       "    .dataframe tbody tr th:only-of-type {\n",
       "        vertical-align: middle;\n",
       "    }\n",
       "\n",
       "    .dataframe tbody tr th {\n",
       "        vertical-align: top;\n",
       "    }\n",
       "\n",
       "    .dataframe thead th {\n",
       "        text-align: right;\n",
       "    }\n",
       "</style>\n",
       "<table border=\"1\" class=\"dataframe\">\n",
       "  <thead>\n",
       "    <tr style=\"text-align: right;\">\n",
       "      <th></th>\n",
       "      <th></th>\n",
       "      <th></th>\n",
       "      <th>_from</th>\n",
       "      <th>_to</th>\n",
       "      <th>_val</th>\n",
       "    </tr>\n",
       "    <tr>\n",
       "      <th>country</th>\n",
       "      <th>material</th>\n",
       "      <th>year</th>\n",
       "      <th></th>\n",
       "      <th></th>\n",
       "      <th></th>\n",
       "    </tr>\n",
       "  </thead>\n",
       "  <tbody>\n",
       "    <tr>\n",
       "      <th rowspan=\"5\" valign=\"top\">DE</th>\n",
       "      <th rowspan=\"5\" valign=\"top\">Aluminium</th>\n",
       "      <th>2020</th>\n",
       "      <td>EXT</td>\n",
       "      <td>Leaching</td>\n",
       "      <td>10.0</td>\n",
       "    </tr>\n",
       "    <tr>\n",
       "      <th>2020</th>\n",
       "      <td>Inciniration</td>\n",
       "      <td>Fabrication</td>\n",
       "      <td>0.0</td>\n",
       "    </tr>\n",
       "    <tr>\n",
       "      <th>2020</th>\n",
       "      <td>Inciniration</td>\n",
       "      <td>Melting</td>\n",
       "      <td>0.0</td>\n",
       "    </tr>\n",
       "    <tr>\n",
       "      <th>2020</th>\n",
       "      <td>Inciniration</td>\n",
       "      <td>Sorting</td>\n",
       "      <td>0.0</td>\n",
       "    </tr>\n",
       "    <tr>\n",
       "      <th>2020</th>\n",
       "      <td>Inciniration</td>\n",
       "      <td>Recycling</td>\n",
       "      <td>0.0</td>\n",
       "    </tr>\n",
       "    <tr>\n",
       "      <th>...</th>\n",
       "      <th>...</th>\n",
       "      <th>...</th>\n",
       "      <td>...</td>\n",
       "      <td>...</td>\n",
       "      <td>...</td>\n",
       "    </tr>\n",
       "    <tr>\n",
       "      <th rowspan=\"5\" valign=\"top\">UK</th>\n",
       "      <th rowspan=\"5\" valign=\"top\">Zinc</th>\n",
       "      <th>2023</th>\n",
       "      <td>Landfilling</td>\n",
       "      <td>Recycling</td>\n",
       "      <td>0.0</td>\n",
       "    </tr>\n",
       "    <tr>\n",
       "      <th>2023</th>\n",
       "      <td>Landfilling</td>\n",
       "      <td>Leaching</td>\n",
       "      <td>0.0</td>\n",
       "    </tr>\n",
       "    <tr>\n",
       "      <th>2023</th>\n",
       "      <td>Leaching</td>\n",
       "      <td>Sorting</td>\n",
       "      <td>0.0</td>\n",
       "    </tr>\n",
       "    <tr>\n",
       "      <th>2023</th>\n",
       "      <td>Leaching</td>\n",
       "      <td>Inciniration</td>\n",
       "      <td>0.0</td>\n",
       "    </tr>\n",
       "    <tr>\n",
       "      <th>2023</th>\n",
       "      <td>Leaching</td>\n",
       "      <td>Fabrication</td>\n",
       "      <td>0.0</td>\n",
       "    </tr>\n",
       "  </tbody>\n",
       "</table>\n",
       "<p>4398 rows × 3 columns</p>\n",
       "</div>"
      ],
      "text/plain": [
       "                               _from           _to  _val\n",
       "country material  year                                  \n",
       "DE      Aluminium 2020           EXT      Leaching  10.0\n",
       "                  2020  Inciniration   Fabrication   0.0\n",
       "                  2020  Inciniration       Melting   0.0\n",
       "                  2020  Inciniration       Sorting   0.0\n",
       "                  2020  Inciniration     Recycling   0.0\n",
       "...                              ...           ...   ...\n",
       "UK      Zinc      2023   Landfilling     Recycling   0.0\n",
       "                  2023   Landfilling      Leaching   0.0\n",
       "                  2023      Leaching       Sorting   0.0\n",
       "                  2023      Leaching  Inciniration   0.0\n",
       "                  2023      Leaching   Fabrication   0.0\n",
       "\n",
       "[4398 rows x 3 columns]"
      ]
     },
     "execution_count": 5,
     "metadata": {},
     "output_type": "execute_result"
    }
   ],
   "source": [
    "result = compute_system(FILEPATH, XLSX_MAP, FROM, TO, VAL, PCT)\n",
    "result"
   ]
  },
  {
   "cell_type": "markdown",
   "metadata": {},
   "source": []
  },
  {
   "attachments": {},
   "cell_type": "markdown",
   "metadata": {},
   "source": [
    "# References\n",
    "\n",
    "Lupton, R. C., & Allwood, J. M. (2018). Incremental material flow analysis with Bayesian inference. Journal of Industrial Ecology, 22(6), 1352-1364."
   ]
  }
 ],
 "metadata": {
  "kernelspec": {
   "display_name": "futuram",
   "language": "python",
   "name": "python3"
  },
  "language_info": {
   "codemirror_mode": {
    "name": "ipython",
    "version": 3
   },
   "file_extension": ".py",
   "mimetype": "text/x-python",
   "name": "python",
   "nbconvert_exporter": "python",
   "pygments_lexer": "ipython3",
   "version": "3.11.3"
  },
  "orig_nbformat": 4
 },
 "nbformat": 4,
 "nbformat_minor": 2
}
