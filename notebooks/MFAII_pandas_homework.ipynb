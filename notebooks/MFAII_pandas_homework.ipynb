{
 "cells": [
  {
   "cell_type": "code",
   "execution_count": 1,
   "metadata": {},
   "outputs": [],
   "source": [
    "import pandas as pd\n",
    "import numpy as np"
   ]
  },
  {
   "cell_type": "markdown",
   "metadata": {},
   "source": [
    "Use the **Pandas cheatsheet** [here](https://github.com/adrien-perello/Computer-Science-Crash-Course/blob/main/02_scientific-computing-libraries/03_pandas_cheatsheet.ipynb) to complete the tasks below\n"
   ]
  },
  {
   "cell_type": "markdown",
   "metadata": {},
   "source": [
    "# Importing a file and exploring data\n"
   ]
  },
  {
   "cell_type": "code",
   "execution_count": 4,
   "metadata": {},
   "outputs": [],
   "source": [
    "# # Import the \"potatoes.csv\" file\n",
    "# potatoes =\n",
    "\n",
    "# ANSWER\n",
    "potatoes = pd.read_csv(\"potatoes.csv\")"
   ]
  },
  {
   "cell_type": "code",
   "execution_count": 15,
   "metadata": {},
   "outputs": [],
   "source": [
    "# # Import the \"MFA_II_pandas_exercise.xlsx\" file\n",
    "# potatoes =\n",
    "\n",
    "# ANSWER\n",
    "patatoes = pd.read_excel(\"MFA_II_pandas_exercise.xlsx\", sheet_name=\"patatoes\")"
   ]
  },
  {
   "cell_type": "code",
   "execution_count": null,
   "metadata": {},
   "outputs": [
    {
     "name": "stdout",
     "output_type": "stream",
     "text": [
      "<class 'pandas.core.frame.DataFrame'>\n",
      "RangeIndex: 21 entries, 0 to 20\n",
      "Data columns (total 5 columns):\n",
      " #   Column    Non-Null Count  Dtype \n",
      "---  ------    --------------  ----- \n",
      " 0   year      21 non-null     int64 \n",
      " 1   candies   21 non-null     int64 \n",
      " 2   patatoes  21 non-null     int64 \n",
      " 3   carrots   21 non-null     int64 \n",
      " 4   name      21 non-null     object\n",
      "dtypes: int64(4), object(1)\n",
      "memory usage: 972.0+ bytes\n"
     ]
    },
    {
     "data": {
      "text/plain": [
       "RangeIndex(start=0, stop=21, step=1)"
      ]
     },
     "execution_count": 16,
     "metadata": {},
     "output_type": "execute_result"
    }
   ],
   "source": [
    "# get an overview of the data by printing\n",
    "# 1) technical information about the datafra;e\n",
    "# 2) the number of rows and columns\n",
    "# 3) the first and last 3 rows of the dataframe\n",
    "# 4) the name of the columns and of the index\n",
    "\n",
    "# ANSWERS\n",
    "potatoes.info()\n",
    "potatoes.shape\n",
    "potatoes.head(3)\n",
    "potatoes.tail(3)\n",
    "potatoes.columns\n",
    "potatoes.index"
   ]
  },
  {
   "cell_type": "markdown",
   "metadata": {},
   "source": [
    "# Reindexing\n"
   ]
  },
  {
   "cell_type": "code",
   "execution_count": 13,
   "metadata": {},
   "outputs": [
    {
     "data": {
      "text/plain": [
       "0     1990\n",
       "1     1991\n",
       "2     1992\n",
       "3     1993\n",
       "4     1994\n",
       "5     1995\n",
       "6     1996\n",
       "7     1997\n",
       "8     1998\n",
       "9     1999\n",
       "10    2000\n",
       "11    2001\n",
       "12    2002\n",
       "13    2003\n",
       "14    2004\n",
       "15    2005\n",
       "16    2006\n",
       "17    2007\n",
       "18    2008\n",
       "19    2009\n",
       "20    2010\n",
       "Name: year, dtype: int64"
      ]
     },
     "execution_count": 13,
     "metadata": {},
     "output_type": "execute_result"
    }
   ],
   "source": [
    "# Display only the \"year\" column\n",
    "\n",
    "# ANSWER\n",
    "potatoes[\"year\"]"
   ]
  },
  {
   "cell_type": "code",
   "execution_count": null,
   "metadata": {},
   "outputs": [],
   "source": [
    "# Set \"year\" as Index\n",
    "# tips: make sure the change is permanent (2 options)\n",
    "\n",
    "# ANSWER\n",
    "potatoes = potatoes.set_index(\"year\")\n",
    "# potatoes.set_index(\"year\", inplace=True) # alternative"
   ]
  },
  {
   "cell_type": "markdown",
   "metadata": {},
   "source": [
    "# Slicing\n"
   ]
  },
  {
   "cell_type": "code",
   "execution_count": 27,
   "metadata": {},
   "outputs": [
    {
     "data": {
      "text/plain": [
       "candies       80\n",
       "patatoes      22\n",
       "carrots      110\n",
       "name        Lisa\n",
       "Name: 2000, dtype: object"
      ]
     },
     "execution_count": 27,
     "metadata": {},
     "output_type": "execute_result"
    }
   ],
   "source": [
    "potatoes.loc[2000, :]"
   ]
  },
  {
   "cell_type": "code",
   "execution_count": 28,
   "metadata": {},
   "outputs": [
    {
     "data": {
      "text/plain": [
       "candies       80\n",
       "patatoes      22\n",
       "carrots      110\n",
       "name        Lisa\n",
       "Name: 2000, dtype: object"
      ]
     },
     "execution_count": 28,
     "metadata": {},
     "output_type": "execute_result"
    }
   ],
   "source": [
    "# Display the number of items for the year 2000\n",
    "# 1) using loc\n",
    "# 2) using iloc\n",
    "\n",
    "# ANSWER\n",
    "potatoes.loc[2000, :]"
   ]
  },
  {
   "cell_type": "code",
   "execution_count": null,
   "metadata": {},
   "outputs": [],
   "source": [
    "# Display the number of items for the year 2000\n",
    "# 1) using loc\n",
    "# 2) using iloc\n",
    "\n",
    "# ANSWER\n",
    "potatoes.loc[2000, :]"
   ]
  },
  {
   "cell_type": "code",
   "execution_count": 30,
   "metadata": {},
   "outputs": [
    {
     "data": {
      "text/plain": [
       "patatoes     22\n",
       "carrots     110\n",
       "Name: 2000, dtype: object"
      ]
     },
     "execution_count": 30,
     "metadata": {},
     "output_type": "execute_result"
    }
   ],
   "source": [
    "# Do the same but only show potatoes and carrots\n",
    "# with only one line of code\n",
    "\n",
    "# ANSWER\n",
    "potatoes.loc[2000, [\"patatoes\", \"carrots\"]]"
   ]
  }
 ],
 "metadata": {
  "kernelspec": {
   "display_name": "dmfa",
   "language": "python",
   "name": "python3"
  },
  "language_info": {
   "codemirror_mode": {
    "name": "ipython",
    "version": 3
   },
   "file_extension": ".py",
   "mimetype": "text/x-python",
   "name": "python",
   "nbconvert_exporter": "python",
   "pygments_lexer": "ipython3",
   "version": "3.13.2"
  }
 },
 "nbformat": 4,
 "nbformat_minor": 2
}
