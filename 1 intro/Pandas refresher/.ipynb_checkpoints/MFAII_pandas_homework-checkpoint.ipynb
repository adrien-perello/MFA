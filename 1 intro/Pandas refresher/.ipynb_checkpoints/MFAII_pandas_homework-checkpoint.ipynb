{
 "cells": [
  {
   "cell_type": "markdown",
   "metadata": {},
   "source": [
    "$\n",
    "\\color{red}\\Downarrow \\color{red}\\Downarrow \\color{red}\\Downarrow \\color{red}\\Downarrow \\color{red}\\Downarrow \\color{red}\\Downarrow\n",
    "\\color{red}\\Downarrow \\color{red}\\Downarrow \\color{red}\\Downarrow \\color{red}\\Downarrow \\color{red}\\Downarrow \\color{red}\\Downarrow\n",
    "\\color{red}\\Downarrow \\color{red}\\Downarrow \\color{red}\\Downarrow \\color{red}\\Downarrow \\color{red}\\Downarrow \\color{red}\\Downarrow\n",
    "\\color{red}\\Downarrow \\color{red}\\Downarrow \\color{red}\\Downarrow \\color{red}\\Downarrow \\color{red}\\Downarrow \\color{red}\\Downarrow\n",
    "\\color{red}\\Downarrow \\color{red}\\Downarrow \\color{red}\\Downarrow \\color{red}\\Downarrow \\color{red}\\Downarrow \\color{red}\\Downarrow\n",
    "\\color{red}\\Downarrow \\color{red}\\Downarrow \\color{red}\\Downarrow \\color{red}\\Downarrow \\color{red}\\Downarrow \\color{red}\\Downarrow \n",
    "$\n",
    "\n",
    "Use the **Pandas cheatsheet** [here](https://github.com/adrien-perello/Computer-Science-Crash-Course/blob/main/02_scientific-computing-libraries/03_pandas_cheatsheet.ipynb) to complete the tasks below\n",
    "\n",
    "$\n",
    "\\color{red}\\Uparrow \\color{red}\\Uparrow \\color{red}\\Uparrow \\color{red}\\Uparrow \\color{red}\\Uparrow \\color{red}\\Uparrow\n",
    "\\color{red}\\Uparrow \\color{red}\\Uparrow \\color{red}\\Uparrow \\color{red}\\Uparrow \\color{red}\\Uparrow \\color{red}\\Uparrow\n",
    "\\color{red}\\Uparrow \\color{red}\\Uparrow \\color{red}\\Uparrow \\color{red}\\Uparrow \\color{red}\\Uparrow \\color{red}\\Uparrow\n",
    "\\color{red}\\Uparrow \\color{red}\\Uparrow \\color{red}\\Uparrow \\color{red}\\Uparrow \\color{red}\\Uparrow \\color{red}\\Uparrow\n",
    "\\color{red}\\Uparrow \\color{red}\\Uparrow \\color{red}\\Uparrow \\color{red}\\Uparrow \\color{red}\\Uparrow \\color{red}\\Uparrow\n",
    "\\color{red}\\Uparrow \\color{red}\\Uparrow \\color{red}\\Uparrow \\color{red}\\Uparrow \\color{red}\\Uparrow \\color{red}\\Uparrow\n",
    "$\n"
   ]
  },
  {
   "cell_type": "code",
   "execution_count": 15,
   "metadata": {},
   "outputs": [],
   "source": [
    "import pandas as pd\n",
    "import numpy as np"
   ]
  },
  {
   "cell_type": "markdown",
   "metadata": {},
   "source": [
    "# Importing a file and exploring data\n"
   ]
  },
  {
   "cell_type": "code",
   "execution_count": 2,
   "metadata": {},
   "outputs": [
    {
     "data": {
      "text/html": [
       "<div>\n",
       "<style scoped>\n",
       "    .dataframe tbody tr th:only-of-type {\n",
       "        vertical-align: middle;\n",
       "    }\n",
       "\n",
       "    .dataframe tbody tr th {\n",
       "        vertical-align: top;\n",
       "    }\n",
       "\n",
       "    .dataframe thead th {\n",
       "        text-align: right;\n",
       "    }\n",
       "</style>\n",
       "<table border=\"1\" class=\"dataframe\">\n",
       "  <thead>\n",
       "    <tr style=\"text-align: right;\">\n",
       "      <th></th>\n",
       "      <th>year</th>\n",
       "      <th>candies</th>\n",
       "      <th>patatoes</th>\n",
       "      <th>carrots</th>\n",
       "      <th>name</th>\n",
       "    </tr>\n",
       "  </thead>\n",
       "  <tbody>\n",
       "    <tr>\n",
       "      <th>0</th>\n",
       "      <td>1990</td>\n",
       "      <td>20.00</td>\n",
       "      <td>2.00</td>\n",
       "      <td>10.00</td>\n",
       "      <td>Jan</td>\n",
       "    </tr>\n",
       "    <tr>\n",
       "      <th>1</th>\n",
       "      <td>1991</td>\n",
       "      <td>22.00</td>\n",
       "      <td>4.00</td>\n",
       "      <td>20.00</td>\n",
       "      <td>Jan</td>\n",
       "    </tr>\n",
       "    <tr>\n",
       "      <th>2</th>\n",
       "      <td>1992</td>\n",
       "      <td>30.00</td>\n",
       "      <td>9.00</td>\n",
       "      <td>30.00</td>\n",
       "      <td>Piet</td>\n",
       "    </tr>\n",
       "    <tr>\n",
       "      <th>3</th>\n",
       "      <td>1993</td>\n",
       "      <td>33.00</td>\n",
       "      <td>10.00</td>\n",
       "      <td>40.00</td>\n",
       "      <td>Emma</td>\n",
       "    </tr>\n",
       "    <tr>\n",
       "      <th>4</th>\n",
       "      <td>1994</td>\n",
       "      <td>33.00</td>\n",
       "      <td>10.00</td>\n",
       "      <td>50.00</td>\n",
       "      <td>Noah</td>\n",
       "    </tr>\n",
       "    <tr>\n",
       "      <th>5</th>\n",
       "      <td>1995</td>\n",
       "      <td>34.00</td>\n",
       "      <td>10.00</td>\n",
       "      <td>60.00</td>\n",
       "      <td>Emma</td>\n",
       "    </tr>\n",
       "    <tr>\n",
       "      <th>6</th>\n",
       "      <td>1996</td>\n",
       "      <td>40.00</td>\n",
       "      <td>11.00</td>\n",
       "      <td>70.00</td>\n",
       "      <td>Noah</td>\n",
       "    </tr>\n",
       "    <tr>\n",
       "      <th>7</th>\n",
       "      <td>1997</td>\n",
       "      <td>45.00</td>\n",
       "      <td>12.00</td>\n",
       "      <td>80.00</td>\n",
       "      <td>Piet</td>\n",
       "    </tr>\n",
       "    <tr>\n",
       "      <th>8</th>\n",
       "      <td>1998</td>\n",
       "      <td>44.00</td>\n",
       "      <td>13.00</td>\n",
       "      <td>90.00</td>\n",
       "      <td>Piet</td>\n",
       "    </tr>\n",
       "    <tr>\n",
       "      <th>9</th>\n",
       "      <td>1999</td>\n",
       "      <td>46.00</td>\n",
       "      <td>20.00</td>\n",
       "      <td>100.00</td>\n",
       "      <td>Kate</td>\n",
       "    </tr>\n",
       "    <tr>\n",
       "      <th>10</th>\n",
       "      <td>2000</td>\n",
       "      <td>80.00</td>\n",
       "      <td>22.00</td>\n",
       "      <td>110.00</td>\n",
       "      <td>Lisa</td>\n",
       "    </tr>\n",
       "    <tr>\n",
       "      <th>11</th>\n",
       "      <td>2001</td>\n",
       "      <td>88.00</td>\n",
       "      <td>23.00</td>\n",
       "      <td>120.00</td>\n",
       "      <td>Kate</td>\n",
       "    </tr>\n",
       "    <tr>\n",
       "      <th>12</th>\n",
       "      <td>2002</td>\n",
       "      <td>90.00</td>\n",
       "      <td>27.00</td>\n",
       "      <td>130.00</td>\n",
       "      <td>Lisa</td>\n",
       "    </tr>\n",
       "    <tr>\n",
       "      <th>13</th>\n",
       "      <td>2003</td>\n",
       "      <td>100.00</td>\n",
       "      <td>30.00</td>\n",
       "      <td>140.00</td>\n",
       "      <td>Piet</td>\n",
       "    </tr>\n",
       "    <tr>\n",
       "      <th>14</th>\n",
       "      <td>2004</td>\n",
       "      <td>120.00</td>\n",
       "      <td>33.00</td>\n",
       "      <td>150.00</td>\n",
       "      <td>Lisa</td>\n",
       "    </tr>\n",
       "    <tr>\n",
       "      <th>15</th>\n",
       "      <td>2005</td>\n",
       "      <td>123.00</td>\n",
       "      <td>34.00</td>\n",
       "      <td>160.00</td>\n",
       "      <td>Alex</td>\n",
       "    </tr>\n",
       "    <tr>\n",
       "      <th>16</th>\n",
       "      <td>2006</td>\n",
       "      <td>144.00</td>\n",
       "      <td>35.00</td>\n",
       "      <td>170.00</td>\n",
       "      <td>Mia</td>\n",
       "    </tr>\n",
       "    <tr>\n",
       "      <th>17</th>\n",
       "      <td>2007</td>\n",
       "      <td>150.00</td>\n",
       "      <td>50.00</td>\n",
       "      <td>180.00</td>\n",
       "      <td>Jan</td>\n",
       "    </tr>\n",
       "    <tr>\n",
       "      <th>18</th>\n",
       "      <td>2008</td>\n",
       "      <td>170.00</td>\n",
       "      <td>45.00</td>\n",
       "      <td>190.00</td>\n",
       "      <td>Jan</td>\n",
       "    </tr>\n",
       "    <tr>\n",
       "      <th>19</th>\n",
       "      <td>2009</td>\n",
       "      <td>177.00</td>\n",
       "      <td>40.00</td>\n",
       "      <td>200.00</td>\n",
       "      <td>Emma</td>\n",
       "    </tr>\n",
       "    <tr>\n",
       "      <th>20</th>\n",
       "      <td>2010</td>\n",
       "      <td>180.00</td>\n",
       "      <td>39.00</td>\n",
       "      <td>210.00</td>\n",
       "      <td>Alex</td>\n",
       "    </tr>\n",
       "    <tr>\n",
       "      <th>21</th>\n",
       "      <td>2011</td>\n",
       "      <td>NaN</td>\n",
       "      <td>NaN</td>\n",
       "      <td>NaN</td>\n",
       "      <td>NaN</td>\n",
       "    </tr>\n",
       "  </tbody>\n",
       "</table>\n",
       "</div>"
      ],
      "text/plain": [
       "    year  candies  patatoes  carrots  name\n",
       "0   1990    20.00      2.00    10.00   Jan\n",
       "1   1991    22.00      4.00    20.00   Jan\n",
       "2   1992    30.00      9.00    30.00  Piet\n",
       "3   1993    33.00     10.00    40.00  Emma\n",
       "4   1994    33.00     10.00    50.00  Noah\n",
       "5   1995    34.00     10.00    60.00  Emma\n",
       "6   1996    40.00     11.00    70.00  Noah\n",
       "7   1997    45.00     12.00    80.00  Piet\n",
       "8   1998    44.00     13.00    90.00  Piet\n",
       "9   1999    46.00     20.00   100.00  Kate\n",
       "10  2000    80.00     22.00   110.00  Lisa\n",
       "11  2001    88.00     23.00   120.00  Kate\n",
       "12  2002    90.00     27.00   130.00  Lisa\n",
       "13  2003   100.00     30.00   140.00  Piet\n",
       "14  2004   120.00     33.00   150.00  Lisa\n",
       "15  2005   123.00     34.00   160.00  Alex\n",
       "16  2006   144.00     35.00   170.00   Mia\n",
       "17  2007   150.00     50.00   180.00   Jan\n",
       "18  2008   170.00     45.00   190.00   Jan\n",
       "19  2009   177.00     40.00   200.00  Emma\n",
       "20  2010   180.00     39.00   210.00  Alex\n",
       "21  2011      NaN       NaN      NaN   NaN"
      ]
     },
     "execution_count": 2,
     "metadata": {},
     "output_type": "execute_result"
    }
   ],
   "source": [
    "# Import the \"commodities.csv\" file\n",
    "# (look for the \"Read and write data from external files\" section\n",
    "# in the pandas cheatsheet)\n",
    "\n",
    "# ! ANSWER\n",
    "commodities = pd.read_csv(\"commodities.csv\")\n",
    "commodities"
   ]
  },
  {
   "cell_type": "code",
   "execution_count": 3,
   "metadata": {},
   "outputs": [
    {
     "data": {
      "text/html": [
       "<div>\n",
       "<style scoped>\n",
       "    .dataframe tbody tr th:only-of-type {\n",
       "        vertical-align: middle;\n",
       "    }\n",
       "\n",
       "    .dataframe tbody tr th {\n",
       "        vertical-align: top;\n",
       "    }\n",
       "\n",
       "    .dataframe thead th {\n",
       "        text-align: right;\n",
       "    }\n",
       "</style>\n",
       "<table border=\"1\" class=\"dataframe\">\n",
       "  <thead>\n",
       "    <tr style=\"text-align: right;\">\n",
       "      <th></th>\n",
       "      <th>year</th>\n",
       "      <th>candies</th>\n",
       "      <th>patatoes</th>\n",
       "      <th>carrots</th>\n",
       "      <th>name</th>\n",
       "    </tr>\n",
       "  </thead>\n",
       "  <tbody>\n",
       "    <tr>\n",
       "      <th>0</th>\n",
       "      <td>1990</td>\n",
       "      <td>20.00</td>\n",
       "      <td>2.00</td>\n",
       "      <td>10.00</td>\n",
       "      <td>Jan</td>\n",
       "    </tr>\n",
       "    <tr>\n",
       "      <th>1</th>\n",
       "      <td>1991</td>\n",
       "      <td>22.00</td>\n",
       "      <td>4.00</td>\n",
       "      <td>20.00</td>\n",
       "      <td>Jan</td>\n",
       "    </tr>\n",
       "    <tr>\n",
       "      <th>2</th>\n",
       "      <td>1992</td>\n",
       "      <td>30.00</td>\n",
       "      <td>9.00</td>\n",
       "      <td>30.00</td>\n",
       "      <td>Piet</td>\n",
       "    </tr>\n",
       "    <tr>\n",
       "      <th>3</th>\n",
       "      <td>1993</td>\n",
       "      <td>33.00</td>\n",
       "      <td>10.00</td>\n",
       "      <td>40.00</td>\n",
       "      <td>Emma</td>\n",
       "    </tr>\n",
       "    <tr>\n",
       "      <th>4</th>\n",
       "      <td>1994</td>\n",
       "      <td>33.00</td>\n",
       "      <td>10.00</td>\n",
       "      <td>50.00</td>\n",
       "      <td>Noah</td>\n",
       "    </tr>\n",
       "    <tr>\n",
       "      <th>5</th>\n",
       "      <td>1995</td>\n",
       "      <td>34.00</td>\n",
       "      <td>10.00</td>\n",
       "      <td>60.00</td>\n",
       "      <td>Emma</td>\n",
       "    </tr>\n",
       "    <tr>\n",
       "      <th>6</th>\n",
       "      <td>1996</td>\n",
       "      <td>40.00</td>\n",
       "      <td>11.00</td>\n",
       "      <td>70.00</td>\n",
       "      <td>Noah</td>\n",
       "    </tr>\n",
       "    <tr>\n",
       "      <th>7</th>\n",
       "      <td>1997</td>\n",
       "      <td>45.00</td>\n",
       "      <td>12.00</td>\n",
       "      <td>80.00</td>\n",
       "      <td>Piet</td>\n",
       "    </tr>\n",
       "    <tr>\n",
       "      <th>8</th>\n",
       "      <td>1998</td>\n",
       "      <td>44.00</td>\n",
       "      <td>13.00</td>\n",
       "      <td>90.00</td>\n",
       "      <td>Piet</td>\n",
       "    </tr>\n",
       "    <tr>\n",
       "      <th>9</th>\n",
       "      <td>1999</td>\n",
       "      <td>46.00</td>\n",
       "      <td>20.00</td>\n",
       "      <td>100.00</td>\n",
       "      <td>Kate</td>\n",
       "    </tr>\n",
       "    <tr>\n",
       "      <th>10</th>\n",
       "      <td>2000</td>\n",
       "      <td>80.00</td>\n",
       "      <td>22.00</td>\n",
       "      <td>110.00</td>\n",
       "      <td>Lisa</td>\n",
       "    </tr>\n",
       "    <tr>\n",
       "      <th>11</th>\n",
       "      <td>2001</td>\n",
       "      <td>88.00</td>\n",
       "      <td>23.00</td>\n",
       "      <td>120.00</td>\n",
       "      <td>Kate</td>\n",
       "    </tr>\n",
       "    <tr>\n",
       "      <th>12</th>\n",
       "      <td>2002</td>\n",
       "      <td>90.00</td>\n",
       "      <td>27.00</td>\n",
       "      <td>130.00</td>\n",
       "      <td>Lisa</td>\n",
       "    </tr>\n",
       "    <tr>\n",
       "      <th>13</th>\n",
       "      <td>2003</td>\n",
       "      <td>100.00</td>\n",
       "      <td>30.00</td>\n",
       "      <td>140.00</td>\n",
       "      <td>Piet</td>\n",
       "    </tr>\n",
       "    <tr>\n",
       "      <th>14</th>\n",
       "      <td>2004</td>\n",
       "      <td>120.00</td>\n",
       "      <td>33.00</td>\n",
       "      <td>150.00</td>\n",
       "      <td>Lisa</td>\n",
       "    </tr>\n",
       "    <tr>\n",
       "      <th>15</th>\n",
       "      <td>2005</td>\n",
       "      <td>123.00</td>\n",
       "      <td>34.00</td>\n",
       "      <td>160.00</td>\n",
       "      <td>Alex</td>\n",
       "    </tr>\n",
       "    <tr>\n",
       "      <th>16</th>\n",
       "      <td>2006</td>\n",
       "      <td>144.00</td>\n",
       "      <td>35.00</td>\n",
       "      <td>170.00</td>\n",
       "      <td>Mia</td>\n",
       "    </tr>\n",
       "    <tr>\n",
       "      <th>17</th>\n",
       "      <td>2007</td>\n",
       "      <td>150.00</td>\n",
       "      <td>50.00</td>\n",
       "      <td>180.00</td>\n",
       "      <td>Jan</td>\n",
       "    </tr>\n",
       "    <tr>\n",
       "      <th>18</th>\n",
       "      <td>2008</td>\n",
       "      <td>170.00</td>\n",
       "      <td>45.00</td>\n",
       "      <td>190.00</td>\n",
       "      <td>Jan</td>\n",
       "    </tr>\n",
       "    <tr>\n",
       "      <th>19</th>\n",
       "      <td>2009</td>\n",
       "      <td>177.00</td>\n",
       "      <td>40.00</td>\n",
       "      <td>200.00</td>\n",
       "      <td>Emma</td>\n",
       "    </tr>\n",
       "    <tr>\n",
       "      <th>20</th>\n",
       "      <td>2010</td>\n",
       "      <td>180.00</td>\n",
       "      <td>39.00</td>\n",
       "      <td>210.00</td>\n",
       "      <td>Alex</td>\n",
       "    </tr>\n",
       "    <tr>\n",
       "      <th>21</th>\n",
       "      <td>2011</td>\n",
       "      <td>NaN</td>\n",
       "      <td>NaN</td>\n",
       "      <td>NaN</td>\n",
       "      <td>NaN</td>\n",
       "    </tr>\n",
       "  </tbody>\n",
       "</table>\n",
       "</div>"
      ],
      "text/plain": [
       "    year  candies  patatoes  carrots  name\n",
       "0   1990    20.00      2.00    10.00   Jan\n",
       "1   1991    22.00      4.00    20.00   Jan\n",
       "2   1992    30.00      9.00    30.00  Piet\n",
       "3   1993    33.00     10.00    40.00  Emma\n",
       "4   1994    33.00     10.00    50.00  Noah\n",
       "5   1995    34.00     10.00    60.00  Emma\n",
       "6   1996    40.00     11.00    70.00  Noah\n",
       "7   1997    45.00     12.00    80.00  Piet\n",
       "8   1998    44.00     13.00    90.00  Piet\n",
       "9   1999    46.00     20.00   100.00  Kate\n",
       "10  2000    80.00     22.00   110.00  Lisa\n",
       "11  2001    88.00     23.00   120.00  Kate\n",
       "12  2002    90.00     27.00   130.00  Lisa\n",
       "13  2003   100.00     30.00   140.00  Piet\n",
       "14  2004   120.00     33.00   150.00  Lisa\n",
       "15  2005   123.00     34.00   160.00  Alex\n",
       "16  2006   144.00     35.00   170.00   Mia\n",
       "17  2007   150.00     50.00   180.00   Jan\n",
       "18  2008   170.00     45.00   190.00   Jan\n",
       "19  2009   177.00     40.00   200.00  Emma\n",
       "20  2010   180.00     39.00   210.00  Alex\n",
       "21  2011      NaN       NaN      NaN   NaN"
      ]
     },
     "execution_count": 3,
     "metadata": {},
     "output_type": "execute_result"
    }
   ],
   "source": [
    "# Import the commodities sheet from the 'MFA_II_pandas_exercise.xlsx' file\n",
    "\n",
    "# ! ANSWER\n",
    "commodities = pd.read_excel(\"MFA_II_pandas_exercise.xlsx\", sheet_name=\"commodities\")\n",
    "commodities"
   ]
  },
  {
   "cell_type": "markdown",
   "metadata": {},
   "source": [
    "**Follow up questions:**\n",
    "\n",
    "What happens if you load the Excel file without specifying a sheet?\n",
    "\n",
    "- How does pandas handle multi-sheet Excel files by default?\n",
    "- What type of data structure does pd.read_excel() return in this case?\n",
    "- Can you still access the data from individual sheets after loading the file without specifying a sheet?\n",
    "\n",
    "Same questions as above, but with `sheet_name = None`\n"
   ]
  },
  {
   "cell_type": "markdown",
   "metadata": {},
   "source": [
    "**ANSWER**\n",
    "\n",
    "...\n"
   ]
  },
  {
   "cell_type": "code",
   "execution_count": null,
   "metadata": {},
   "outputs": [],
   "source": [
    "# get an overview of the data by printing\n",
    "# 1) technical information about the dataframe\n",
    "# 2) the number of the rows and columns\n",
    "# 3) the first and/or last 3 rows of the dataframe\n",
    "# 4) the name of the columns and of the index\n",
    "\n",
    "# ! ANSWERS\n",
    "# commodities.info()\n",
    "# commodities.shape\n",
    "# commodities.head(3)\n",
    "# commodities.tail(3)\n",
    "# commodities.columns\n",
    "# commodities.index"
   ]
  },
  {
   "cell_type": "markdown",
   "metadata": {},
   "source": [
    "# Selecting columns\n"
   ]
  },
  {
   "cell_type": "code",
   "execution_count": null,
   "metadata": {},
   "outputs": [],
   "source": [
    "# Display the \"year\" column\n",
    "# 1) using []\n",
    "# 2) using .loc[]\n",
    "# 3) using .iloc[]\n",
    "\n",
    "# ! ANSWERS\n",
    "# commodities[\"year\"]\n",
    "# commodities.loc[:, \"year\"]\n",
    "# commodities.iloc[:, 0]"
   ]
  },
  {
   "cell_type": "markdown",
   "metadata": {},
   "source": [
    "**Follow up questions:**\n",
    "\n",
    "1. How do `[]`, `.loc[]`, and `.iloc[]` differ in their approach to selecting columns?\n",
    "\n",
    "   - What type of inputs do each of them accept?\n",
    "   - How does their output differ (if at all) in this case?\n",
    "\n",
    "2. What happens if the column name changes or is misspelled in the dataset? What error is raised?\n",
    "\n",
    "3. What happens if you try to use `.iloc[]` with a column index that doesn't exist? What error is raised? What about with negative numbers (e.g. -1 or -2)?\n",
    "\n",
    "4. What are the advantages of using `.loc[]` vs `.iloc[]`? In what situations would one method be preferable over the others?\n"
   ]
  },
  {
   "cell_type": "markdown",
   "metadata": {},
   "source": [
    "**ANSWER**\n",
    "\n",
    "...\n",
    "\n",
    "1. How do `[]`, `.loc[]`, and `.iloc[]` differ in their approach to selecting columns?\n",
    "\n",
    "   - What type of inputs do each of them accept?\n",
    "     - `[]` accepts a column label (string) or a list of column labels.\n",
    "     - `.loc[]` accepts a label-based selection, meaning it requires the column name(s).\n",
    "     - `.iloc[]` uses integer-based indexing, meaning it selects columns by their position.\n",
    "   - How does their output differ (if at all) in this case?\n",
    "     - If selecting a single column, all three return a pandas Series.\n",
    "     - If selecting multiple columns (e.g., `commodities[[\"year\", \"value\"]]`, `commodities.loc[:, [\"year\", \"value\"]]`, or `commodities.iloc[:, [1, 3]]` ), the output is a DataFrame.\n",
    "\n",
    "2. What happens if the column name changes or is misspelled in the dataset? What error is raised?\n",
    "\n",
    "   - `[]` and `.loc[]` will raise a `KeyError` if the column name is missing or misspelled.\n",
    "   - `.iloc[]` will not be affected because it selects based on position rather than name.\n",
    "\n",
    "3. What happens if you try to use `.iloc[]` with a column index that doesn't exist? What error is raised? What about with negative numbers (e.g. -1 or -2)?\n",
    "\n",
    "   - `.iloc[]` raises an `IndexError` if the column index is out of range (> nb columns or < -nb columns).\n",
    "   - Negative indices work similarly to Python lists and NumPy arrays: they select columns from the end of the DataFrame.\n",
    "\n",
    "4. What are the advantages of using `.loc[]` vs `.iloc[]`? In what situations would one method be preferable over the others?\n",
    "   - `.loc[]` is useful when working with labeled data, making code more explicit and readable, which improves maintainability. But it might fail if the name of the columns change\n",
    "   - `.iloc[]` is useful when column names are unknown or change. But the code is less readable and might fail if the position of the columns change.\n"
   ]
  },
  {
   "cell_type": "code",
   "execution_count": null,
   "metadata": {},
   "outputs": [],
   "source": [
    "# Display multiple columns at once (e.g. \"candies\" and \"patatoes\")\n",
    "# using each of the 3 methods\n",
    "\n",
    "# ! ANSWERS\n",
    "# commodities[[\"candies\", \"patatoes\"]]\n",
    "# commodities.loc[:, [\"candies\", \"patatoes\"]]\n",
    "# commodities.iloc[:, [1, 2]]"
   ]
  },
  {
   "cell_type": "markdown",
   "metadata": {},
   "source": [
    "# Reindexing\n"
   ]
  },
  {
   "cell_type": "code",
   "execution_count": null,
   "metadata": {},
   "outputs": [],
   "source": [
    "# Set \"year\" as Index\n",
    "# make sure the change is permanent (2 options)\n",
    "\n",
    "# ANSWER\n",
    "# commodities = commodities.set_index(\"year\")\n",
    "# commodities.set_index(\"year\", inplace=True) # alternative"
   ]
  },
  {
   "cell_type": "markdown",
   "metadata": {},
   "source": [
    "**Follow up questions:**\n",
    "\n",
    "- what data structure does each option returns?\n",
    "- How can you reset the index back to the default integer index?\n",
    "- What happens if you try to set an index on a column that doesn’t exist?\n",
    "- Can you set multiple columns as an index? If so, how?\n"
   ]
  },
  {
   "cell_type": "markdown",
   "metadata": {},
   "source": [
    "**ANSWER**\n",
    "\n",
    "...\n",
    "\n",
    "- what data structure does each option returns?\n",
    "  - `commodities.set_index(\"year\")` → Returns a new DataFrame with \"year\" as the index. The original commodities DataFrame remains unchanged unless reassigned.\n",
    "  - `commodities.set_index(\"year\", inplace=True)` → Modifies the commodities DataFrame in place and returns None. The \"year\" column is moved to the index in the same DataFrame.\n",
    "- How can you reset the index back to the default integer index?\n",
    "  - `commodities = commodities.reset_index()`\n",
    "  - `commodities.reset_index(inplace=True)`\n",
    "- What happens if you try to set an index on a column that doesn’t exist?\n",
    "  - Pandas raises a `KeyError`, indicating that the column name is not found.\n",
    "- Can you set multiple columns as an index? If so, how?\n",
    "  - `commodities.set_index([\"year\", \"name\"])` creates a **MultiIndex**, where both `year` and `name` define the DataFrame’s hierarchical index.\n"
   ]
  },
  {
   "cell_type": "markdown",
   "metadata": {},
   "source": [
    "# Slicing\n"
   ]
  },
  {
   "cell_type": "code",
   "execution_count": null,
   "metadata": {},
   "outputs": [],
   "source": [
    "# Display the number of each commodity for the year 2000\n",
    "# in a single line of code.\n",
    "# Provide solutions using both .loc[] and .iloc[].\n",
    "\n",
    "# ! ANSWER\n",
    "# commodities.loc[2000, :]\n",
    "# commodities.iloc[10, :]"
   ]
  },
  {
   "cell_type": "code",
   "execution_count": null,
   "metadata": {},
   "outputs": [],
   "source": [
    "# Select the 'patatoes' and 'carrots' columns together\n",
    "# for the year 2000, in a single line of code.\n",
    "# Provide solutions using both .loc[] and .iloc[].\n",
    "\n",
    "# ! ANSWER\n",
    "# commodities.loc[2000, [\"patatoes\", \"carrots\"]]\n",
    "# commodities.iloc[10, [1, 2]]"
   ]
  },
  {
   "cell_type": "code",
   "execution_count": null,
   "metadata": {},
   "outputs": [],
   "source": [
    "# Do the same (show patatoes and carrots together)\n",
    "# but for the year 2000 AND 2010.\n",
    "# Provide solutions using both .loc[] and .iloc[].\n",
    "\n",
    "# ! ANSWER\n",
    "# commodities.loc[[2000, 2010], [\"patatoes\", \"carrots\"]]\n",
    "# commodities.iloc[[10, 20], [1, 2]]"
   ]
  },
  {
   "cell_type": "markdown",
   "metadata": {},
   "source": [
    "**Follow up questions:**\n",
    "\n",
    "- How would you select data for all years greater than 1995?\n",
    "- How would you select data for all years greater than 1995 and less than 2005?\n",
    "- How would you select data related either to `Alex` or `Lisa`?\n",
    "- load `commodity_alt.csv`, set `year` as index and try to access the data for the year 2000. Do you encounter any problem? If so, why is that?\n",
    "\n",
    "For the first two questions, try both using `:` and **boolean mask**.\n"
   ]
  },
  {
   "cell_type": "markdown",
   "metadata": {},
   "source": [
    "**ANSWER**\n",
    "\n",
    "...\n"
   ]
  },
  {
   "cell_type": "markdown",
   "metadata": {},
   "source": [
    "- How would you select data for all years greater than 1995?\n"
   ]
  },
  {
   "cell_type": "code",
   "execution_count": null,
   "metadata": {},
   "outputs": [],
   "source": [
    "# # using `:`\n",
    "# commodities.loc[1995:, [\"patatoes\", \"carrots\"]]\n",
    "\n",
    "# # using boolean mask\n",
    "# mask = commodities.index > 1995\n",
    "# commodities.loc[mask, [\"patatoes\", \"carrots\"]]"
   ]
  },
  {
   "cell_type": "markdown",
   "metadata": {},
   "source": [
    "- How would you select data for all years greater than 1995 and less than 2005?\n"
   ]
  },
  {
   "cell_type": "code",
   "execution_count": null,
   "metadata": {},
   "outputs": [],
   "source": [
    "# # using `:`\n",
    "# commodities.loc[1995:2005, [\"patatoes\", \"carrots\"]]\n",
    "\n",
    "# # using boolean mask\n",
    "# mask = (commodities.index > 1995) & (commodities.index < 2005)\n",
    "# commodities.loc[mask, [\"patatoes\", \"carrots\"]]"
   ]
  },
  {
   "cell_type": "markdown",
   "metadata": {},
   "source": [
    "- How would you select data related either to `Alex` or `Lisa`?\n"
   ]
  },
  {
   "cell_type": "code",
   "execution_count": null,
   "metadata": {},
   "outputs": [],
   "source": [
    "# # using boolean mask\n",
    "# mask = (commodities['name'] == 'Alex') | (commodities['name'] == 'Lisa')\n",
    "# commodities.loc[mask, :]\n",
    "\n",
    "# # using .isin()\n",
    "# mask = commodities['name'].isin(['Alex', 'Lisa'])\n",
    "# commodities.loc[mask, :]\n",
    "\n",
    "# # using query()\n",
    "# commodities.query(\"name == 'Alex' or name == 'Lisa'\")  # be careful with the quotes"
   ]
  },
  {
   "cell_type": "markdown",
   "metadata": {},
   "source": [
    "- load `commodity_alt.csv`, set `year` as index and try to access the data for the year 2000. Do you encounter any problem? If so, why is that?\n"
   ]
  },
  {
   "cell_type": "code",
   "execution_count": null,
   "metadata": {},
   "outputs": [],
   "source": [
    "# commodities_alt = pd.read_csv(\"commodities_alt.csv\")\n",
    "# commodities_alt = commodities_alt.set_index(\"year\")\n",
    "\n",
    "# commodities_alt.loc[2000, :]  # this returns an KeyError because the year column contains strings and not integers\n",
    "# commodities_alt.info()  # pay attention to the Dtype of the year column (object = string)"
   ]
  },
  {
   "cell_type": "markdown",
   "metadata": {},
   "source": [
    "# Cleaning data\n"
   ]
  },
  {
   "cell_type": "code",
   "execution_count": null,
   "metadata": {},
   "outputs": [],
   "source": [
    "# # rename the column that has a typo\n",
    "\n",
    "# # ! ANSWER\n",
    "# commodities = commodities.rename(columns={\"patatoes\": \"potatoes\"})\n",
    "# commodities.rename(columns={\"patatoes\": \"potatoes\"}, inplace=True)  # alternative"
   ]
  },
  {
   "cell_type": "markdown",
   "metadata": {},
   "source": [
    "**Follow up questions:**\n",
    "\n",
    "- What happens if you try to rename a column that doesn’t exist in the DataFrame?\n",
    "- Is renaming case-sensitive? What if you accidentally change \"Patatoes\" to \"Potatoes\" but the original column is lowercase?\n"
   ]
  },
  {
   "cell_type": "markdown",
   "metadata": {},
   "source": [
    "**ANSWER**\n",
    "\n",
    "...\n"
   ]
  },
  {
   "cell_type": "markdown",
   "metadata": {},
   "source": [
    "- What happens if you try to rename a column that doesn’t exist in the DataFrame?\n",
    "  - The `.rename()` method does nothing if the specified column does not exist; it simply leaves the DataFrame unchanged.\n"
   ]
  },
  {
   "cell_type": "code",
   "execution_count": null,
   "metadata": {},
   "outputs": [],
   "source": [
    "# commodities.rename(columns={\"non_existent_column\": \"new_name\"})"
   ]
  },
  {
   "cell_type": "markdown",
   "metadata": {},
   "source": [
    "- Is renaming case-sensitive? What if you accidentally change \"Patatoes\" to \"Potatoes\" but the original column is lowercase?\n",
    "  - Yes, renaming is case-sensitive. If the original column name is \"patatoes\", renaming \"Patatoes\" will have no effect.\n"
   ]
  },
  {
   "cell_type": "code",
   "execution_count": null,
   "metadata": {},
   "outputs": [],
   "source": [
    "# # Remove the rows that are empty\n",
    "\n",
    "# # ! ANSWER\n",
    "# commodities = commodities.dropna()\n",
    "# commodities.dropna(inplace=True)  # alternative"
   ]
  },
  {
   "cell_type": "markdown",
   "metadata": {},
   "source": [
    "**Follow up questions:**\n",
    "\n",
    "- What happens if there are only some missing values in a row? Does .dropna() remove the whole row?\n",
    "- How could you replace missing values instead of removing them?\n"
   ]
  },
  {
   "cell_type": "markdown",
   "metadata": {},
   "source": [
    "**ANSWER**\n",
    "\n",
    "...\n"
   ]
  },
  {
   "cell_type": "markdown",
   "metadata": {},
   "source": [
    "- What happens if there are only some missing values in a row? Does .dropna() remove the whole row?\n",
    "  - Yes, by default, .dropna() removes any row that contains at least one missing value.\n"
   ]
  },
  {
   "cell_type": "markdown",
   "metadata": {},
   "source": [
    "- How could you replace missing values instead of removing them?\n",
    "  - Use .fillna() to replace NaN values with a specific value\n"
   ]
  },
  {
   "cell_type": "code",
   "execution_count": null,
   "metadata": {},
   "outputs": [],
   "source": [
    "# commodities.fillna(0)  # Replaces NaNs with 0"
   ]
  },
  {
   "cell_type": "markdown",
   "metadata": {},
   "source": [
    "# Plot waste statistics\n"
   ]
  },
  {
   "cell_type": "code",
   "execution_count": 4,
   "metadata": {},
   "outputs": [],
   "source": [
    "# Load the \"wasteStatistics\" sheet of the \"MFA_II_pandas_exercise.xlsx\" file,\n",
    "# and set the \"year\" column as the index\n",
    "\n",
    "# ! ANSWER\n",
    "waste = pd.read_excel(\"MFA_II_pandas_exercise.xlsx\", sheet_name=\"wasteStatistics\")\n",
    "waste = waste.set_index(\"year\")"
   ]
  },
  {
   "cell_type": "code",
   "execution_count": null,
   "metadata": {},
   "outputs": [],
   "source": [
    "# Plot residual waste over the years (x-axis should be the year)\n",
    "\n",
    "# # ! ANSWER\n",
    "# waste[\"residual\"].plot()  # this does not show the year on the x-axis\n",
    "# waste.plot(x=\"year\", y=\"residual\")  # this shows the year on the x-axis\n",
    "\n",
    "# # or alternatively, we set the index to the year\n",
    "# waste = waste.set_index(\"year\")\n",
    "# waste[\"residual\"].plot()"
   ]
  },
  {
   "cell_type": "markdown",
   "metadata": {},
   "source": [
    "**Follow up questions:**\n",
    "\n",
    "- How can you customize the plot to add a title and axis labels? Change the plot size?\n",
    "- Assuming the unit is kilograms, how would you display the results in tonnes?\n"
   ]
  },
  {
   "cell_type": "markdown",
   "metadata": {},
   "source": [
    "**ANSWER**\n",
    "\n",
    "...\n"
   ]
  },
  {
   "cell_type": "markdown",
   "metadata": {},
   "source": [
    "- How can you customize the plot to add a title and axis labels? Change the plot size?\n"
   ]
  },
  {
   "cell_type": "code",
   "execution_count": null,
   "metadata": {},
   "outputs": [],
   "source": [
    "# waste[\"residual\"].plot(\n",
    "#     figsize=(12, 4),\n",
    "#     xlabel=\"years\",\n",
    "#     ylabel=\"kg\",\n",
    "#     title=\"Waste statistics\",\n",
    "# )"
   ]
  },
  {
   "cell_type": "markdown",
   "metadata": {},
   "source": [
    "- Assuming the unit is kilograms, how would you display the results in kilotonnes instead?\n"
   ]
  },
  {
   "cell_type": "code",
   "execution_count": null,
   "metadata": {},
   "outputs": [],
   "source": [
    "# waste_in_tonnes = waste[\"residual\"] / 1e6\n",
    "# waste_in_tonnes.plot(ylabel=\"kt\")"
   ]
  },
  {
   "cell_type": "code",
   "execution_count": null,
   "metadata": {},
   "outputs": [],
   "source": [
    "# Plot all types of waste stacked over the years in one single plot\n",
    "\n",
    "# ! ANSWER\n",
    "# waste.plot(kind=\"area\")"
   ]
  },
  {
   "cell_type": "markdown",
   "metadata": {},
   "source": [
    "# Mean, sum, maximum and minimum\n"
   ]
  },
  {
   "cell_type": "code",
   "execution_count": null,
   "metadata": {},
   "outputs": [],
   "source": [
    "# Calculate the mean, sum, minimum, and maximum for each year\n",
    "# without using a loop. Save the results in a separate column.\n",
    "\n",
    "# # ! ANSWER\n",
    "# waste['total'] = waste.sum(axis=\"columns\")  # or axis=1\n",
    "# waste['average'] = waste.mean(axis=\"columns\")  # or axis=1\n",
    "# waste['minimum'] = waste.min(axis=\"columns\")  # or axis=1\n",
    "# waste['maximum'] = waste.max(axis=\"columns\")  # or axis=1"
   ]
  },
  {
   "cell_type": "code",
   "execution_count": null,
   "metadata": {},
   "outputs": [],
   "source": [
    "# still without using a loop, perform the following calculations:\n",
    "# 1) the cumulative sum of organic waste over the years.\n",
    "# 2) the year-over-year difference in chemical waste\n",
    "# (i.e., the difference between each year and the previous one)\n",
    "# save the results in separate columns\n",
    "\n",
    "# ! ANSWER\n",
    "waste[\"organic_cumsum\"] = waste[\"organic\"].cumsum()\n",
    "waste[\"chemical_diff\"] = waste[\"chemical\"].diff()"
   ]
  },
  {
   "cell_type": "markdown",
   "metadata": {},
   "source": [
    "**Follow up questions:**\n",
    "\n",
    "- What would happen if the dataset was not sorted by year before performing these operations?\n",
    "- What happens to the first row when calculating differences on a column with pandas? Why?\n",
    "- How can you modify the result so it shows 0 instead?\n",
    "- In some cases, we may want the first difference to be calculated from a specific **non-zero** starting value. How can we achieve this using numpy? How would you save the result (a numpy array) in a new column?\n"
   ]
  },
  {
   "cell_type": "markdown",
   "metadata": {},
   "source": [
    "**ANSWER**\n",
    "\n",
    "...\n"
   ]
  },
  {
   "cell_type": "markdown",
   "metadata": {},
   "source": [
    "- What would happen if the dataset was not sorted by year before performing these operations?\n",
    "  - The calculations may produce incorrect or misleading results. Make sure to sort the index using `.sort_index()`\n"
   ]
  },
  {
   "cell_type": "markdown",
   "metadata": {},
   "source": [
    "- What happens to the first row when calculating differences on a column with pandas? Why?\n",
    "  - The `.diff()` method calculates the difference between each row and its predecessor. For the first row, there is no previous row to subtract from, so it results in a `NaN` value.\n"
   ]
  },
  {
   "cell_type": "markdown",
   "metadata": {},
   "source": [
    "- How can you modify the result so it shows 0 instead?\n",
    "  - use `.fillna(0)` to replace the `NaN` in the first row with 0\n"
   ]
  },
  {
   "cell_type": "markdown",
   "metadata": {},
   "source": [
    "- In some cases, we may want the first difference to be calculated from a specific **non-zero** starting value. How can we achieve this using numpy? How would you save the (numpy array) result in a new column?\n",
    "  - use `np.diff()` with the `prepend` argument. The `prepend` argument allows to specify a value that will be considered as the \"previous value\" for the first element. Unfortunately, the `prepend` argument is not available with the `.diff()` function from [pandas](https://pandas.pydata.org/pandas-docs/version/1.5/reference/api/pandas.DataFrame.diff.html)\n"
   ]
  },
  {
   "cell_type": "code",
   "execution_count": null,
   "metadata": {},
   "outputs": [
    {
     "data": {
      "text/html": [
       "<div>\n",
       "<style scoped>\n",
       "    .dataframe tbody tr th:only-of-type {\n",
       "        vertical-align: middle;\n",
       "    }\n",
       "\n",
       "    .dataframe tbody tr th {\n",
       "        vertical-align: top;\n",
       "    }\n",
       "\n",
       "    .dataframe thead th {\n",
       "        text-align: right;\n",
       "    }\n",
       "</style>\n",
       "<table border=\"1\" class=\"dataframe\">\n",
       "  <thead>\n",
       "    <tr style=\"text-align: right;\">\n",
       "      <th></th>\n",
       "      <th>residual</th>\n",
       "      <th>organic</th>\n",
       "      <th>paper</th>\n",
       "      <th>glass</th>\n",
       "      <th>textiles</th>\n",
       "      <th>chemical</th>\n",
       "      <th>other</th>\n",
       "      <th>organic_cumsum</th>\n",
       "      <th>chemical_diff</th>\n",
       "    </tr>\n",
       "    <tr>\n",
       "      <th>year</th>\n",
       "      <th></th>\n",
       "      <th></th>\n",
       "      <th></th>\n",
       "      <th></th>\n",
       "      <th></th>\n",
       "      <th></th>\n",
       "      <th></th>\n",
       "      <th></th>\n",
       "      <th></th>\n",
       "    </tr>\n",
       "  </thead>\n",
       "  <tbody>\n",
       "    <tr>\n",
       "      <th>2011</th>\n",
       "      <td>4334000</td>\n",
       "      <td>600000</td>\n",
       "      <td>1297000</td>\n",
       "      <td>1044000</td>\n",
       "      <td>349000</td>\n",
       "      <td>66000</td>\n",
       "      <td>21000</td>\n",
       "      <td>600000</td>\n",
       "      <td>65000</td>\n",
       "    </tr>\n",
       "    <tr>\n",
       "      <th>2012</th>\n",
       "      <td>4199000</td>\n",
       "      <td>536000</td>\n",
       "      <td>1303000</td>\n",
       "      <td>981000</td>\n",
       "      <td>348000</td>\n",
       "      <td>65000</td>\n",
       "      <td>20000</td>\n",
       "      <td>1136000</td>\n",
       "      <td>-1000</td>\n",
       "    </tr>\n",
       "    <tr>\n",
       "      <th>2013</th>\n",
       "      <td>3996000</td>\n",
       "      <td>473000</td>\n",
       "      <td>1252000</td>\n",
       "      <td>924000</td>\n",
       "      <td>345000</td>\n",
       "      <td>65000</td>\n",
       "      <td>20000</td>\n",
       "      <td>1609000</td>\n",
       "      <td>0</td>\n",
       "    </tr>\n",
       "    <tr>\n",
       "      <th>2014</th>\n",
       "      <td>3934000</td>\n",
       "      <td>465000</td>\n",
       "      <td>1346000</td>\n",
       "      <td>914000</td>\n",
       "      <td>339000</td>\n",
       "      <td>67000</td>\n",
       "      <td>19000</td>\n",
       "      <td>2074000</td>\n",
       "      <td>2000</td>\n",
       "    </tr>\n",
       "    <tr>\n",
       "      <th>2015</th>\n",
       "      <td>3838000</td>\n",
       "      <td>455000</td>\n",
       "      <td>1348000</td>\n",
       "      <td>904000</td>\n",
       "      <td>342000</td>\n",
       "      <td>73000</td>\n",
       "      <td>20000</td>\n",
       "      <td>2529000</td>\n",
       "      <td>6000</td>\n",
       "    </tr>\n",
       "    <tr>\n",
       "      <th>2016</th>\n",
       "      <td>3706000</td>\n",
       "      <td>485000</td>\n",
       "      <td>1402000</td>\n",
       "      <td>896000</td>\n",
       "      <td>343000</td>\n",
       "      <td>76000</td>\n",
       "      <td>20000</td>\n",
       "      <td>3014000</td>\n",
       "      <td>3000</td>\n",
       "    </tr>\n",
       "    <tr>\n",
       "      <th>2017</th>\n",
       "      <td>3562000</td>\n",
       "      <td>505000</td>\n",
       "      <td>1468000</td>\n",
       "      <td>879000</td>\n",
       "      <td>345000</td>\n",
       "      <td>80000</td>\n",
       "      <td>21000</td>\n",
       "      <td>3519000</td>\n",
       "      <td>4000</td>\n",
       "    </tr>\n",
       "    <tr>\n",
       "      <th>2018</th>\n",
       "      <td>3466000</td>\n",
       "      <td>525000</td>\n",
       "      <td>1487000</td>\n",
       "      <td>854000</td>\n",
       "      <td>350000</td>\n",
       "      <td>81000</td>\n",
       "      <td>22000</td>\n",
       "      <td>4044000</td>\n",
       "      <td>1000</td>\n",
       "    </tr>\n",
       "    <tr>\n",
       "      <th>2019</th>\n",
       "      <td>3344000</td>\n",
       "      <td>515000</td>\n",
       "      <td>1548000</td>\n",
       "      <td>837000</td>\n",
       "      <td>357000</td>\n",
       "      <td>86000</td>\n",
       "      <td>23000</td>\n",
       "      <td>4559000</td>\n",
       "      <td>5000</td>\n",
       "    </tr>\n",
       "    <tr>\n",
       "      <th>2020</th>\n",
       "      <td>3566000</td>\n",
       "      <td>575000</td>\n",
       "      <td>1672000</td>\n",
       "      <td>843000</td>\n",
       "      <td>392000</td>\n",
       "      <td>84000</td>\n",
       "      <td>25000</td>\n",
       "      <td>5134000</td>\n",
       "      <td>-2000</td>\n",
       "    </tr>\n",
       "  </tbody>\n",
       "</table>\n",
       "</div>"
      ],
      "text/plain": [
       "      residual  organic    paper    glass  textiles  chemical  other  \\\n",
       "year                                                                   \n",
       "2011   4334000   600000  1297000  1044000    349000     66000  21000   \n",
       "2012   4199000   536000  1303000   981000    348000     65000  20000   \n",
       "2013   3996000   473000  1252000   924000    345000     65000  20000   \n",
       "2014   3934000   465000  1346000   914000    339000     67000  19000   \n",
       "2015   3838000   455000  1348000   904000    342000     73000  20000   \n",
       "2016   3706000   485000  1402000   896000    343000     76000  20000   \n",
       "2017   3562000   505000  1468000   879000    345000     80000  21000   \n",
       "2018   3466000   525000  1487000   854000    350000     81000  22000   \n",
       "2019   3344000   515000  1548000   837000    357000     86000  23000   \n",
       "2020   3566000   575000  1672000   843000    392000     84000  25000   \n",
       "\n",
       "      organic_cumsum  chemical_diff  \n",
       "year                                 \n",
       "2011          600000          65000  \n",
       "2012         1136000          -1000  \n",
       "2013         1609000              0  \n",
       "2014         2074000           2000  \n",
       "2015         2529000           6000  \n",
       "2016         3014000           3000  \n",
       "2017         3519000           4000  \n",
       "2018         4044000           1000  \n",
       "2019         4559000           5000  \n",
       "2020         5134000          -2000  "
      ]
     },
     "execution_count": 28,
     "metadata": {},
     "output_type": "execute_result"
    }
   ],
   "source": [
    "# using np.diff() to calculate the difference between each year and the previous one\n",
    "# However, the fact that we now have it returns numpy array does not change anything,\n",
    "# we can assign it to a new column in the same way\n",
    "waste[\"chemical_diff\"] = np.diff(waste[\"chemical\"], prepend=1000)\n",
    "waste"
   ]
  },
  {
   "cell_type": "markdown",
   "metadata": {},
   "source": [
    "# Export file\n"
   ]
  },
  {
   "cell_type": "code",
   "execution_count": null,
   "metadata": {},
   "outputs": [],
   "source": [
    "# save the results as a csv file\n",
    "\n",
    "# ! ANSWER\n",
    "# waste.to_csv(\"waste_statistics.csv\")"
   ]
  }
 ],
 "metadata": {
  "kernelspec": {
   "display_name": "dmfa",
   "language": "python",
   "name": "python3"
  },
  "language_info": {
   "codemirror_mode": {
    "name": "ipython",
    "version": 3
   },
   "file_extension": ".py",
   "mimetype": "text/x-python",
   "name": "python",
   "nbconvert_exporter": "python",
   "pygments_lexer": "ipython3",
   "version": "3.13.2"
  }
 },
 "nbformat": 4,
 "nbformat_minor": 2
}
