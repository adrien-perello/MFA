{
 "cells": [
  {
   "cell_type": "markdown",
   "metadata": {},
   "source": [
    "Submit a single .py file with the answers to the questions in # comments lines, next to the code lines you used to answer the question (if code is required for that question).\n"
   ]
  },
  {
   "cell_type": "markdown",
   "metadata": {},
   "source": [
    "## Question 1.\n",
    "\n",
    "Slide 45 of the week 2 presentation file shows various pairs of survival curves and outflow curves. Choose three of these six pairs, suggest a type of material or product that you think has this behavior. We saw some examples in slide 46, but think of new examples!\n",
    "\n",
    "![slide_45](../img/slide_45.png)\n",
    "![slide_46](../img/slide_46.png)\n"
   ]
  },
  {
   "cell_type": "code",
   "execution_count": null,
   "metadata": {
    "vscode": {
     "languageId": "plaintext"
    }
   },
   "outputs": [],
   "source": []
  },
  {
   "cell_type": "markdown",
   "metadata": {},
   "source": [
    "---\n"
   ]
  },
  {
   "cell_type": "markdown",
   "metadata": {},
   "source": [
    "For the next 2 questions, use the funky furniture inflow data from MFA_II_tutorial_II.xlsx sheet inflow_driven with the python flow-driven model. In class, we used a normal distribution to describe the inflow cohorts’ survival as stock, and the inflow cohorts’ outflow generation. The normal distribution’s parameters were 30 years of mean lifespan and a standard deviation of 10, which means that whoever is hoarding these furniture pieces is taking a very long time to use and discard them (throw them away, or sell them…) and so the stock of furniture is accumulating over time.\n"
   ]
  },
  {
   "cell_type": "markdown",
   "metadata": {},
   "source": [
    "## Question 2.\n",
    "\n",
    "It turns out that actually, the furniture hoarder has a strange collection habit. He uses every inflow of furniture in the same way over time: he gets rid of 1 out of every 10 furniture pieces of the inflow cohort every year, so after 10 years that inflow is all gone. For example, if the inflow in 1995 was 20 furnitures, he gets rid of 2 furnitures from this cohort every year until this cohort runs out. In parallel, he gets rid of 1/10 of each of the other cohorts in the stock in any given year. Which survival curve / outflow curve pair describes this behavior? Change the survival curve and its parameters, re-run the model, and show the results. Shortly describe the differences in stocks and outflows between the original results and the new results: Will he accumulate more stocks? Will he generate more outflows? Etc.\n"
   ]
  },
  {
   "cell_type": "code",
   "execution_count": null,
   "metadata": {
    "vscode": {
     "languageId": "plaintext"
    }
   },
   "outputs": [],
   "source": []
  },
  {
   "cell_type": "markdown",
   "metadata": {},
   "source": [
    "---\n"
   ]
  },
  {
   "cell_type": "markdown",
   "metadata": {},
   "source": [
    "## Question 3.\n",
    "\n",
    "It turns out that funky furniture pieces age nicely while in-use as stock for some time, but afterwards they start to break and rot. So it’s best to keep as many of them as possible in the stock for around 10 years, and then start getting rid of them. They should be mostly sold off after no later than 15 years after purchase. Use a Weibull distribution to create a curve that describes this, re-run the model and show the results. Shortly describe the differences in stocks and outflows between question 2 and question 3.\n",
    "\n",
    "Note: You’ll need to change the default parameters of both the shape and scale of the Weibull to get it to approximate this description. It’s a bit of a trial and error to find the right combination of parameters, visualize them!\n"
   ]
  },
  {
   "cell_type": "code",
   "execution_count": null,
   "metadata": {
    "vscode": {
     "languageId": "plaintext"
    }
   },
   "outputs": [],
   "source": []
  },
  {
   "cell_type": "markdown",
   "metadata": {},
   "source": [
    "---\n"
   ]
  },
  {
   "cell_type": "markdown",
   "metadata": {},
   "source": [
    "For the next 3 questions, use the ceramic plates stock data from MFA_II_tutorial_II.xlsx sheet stock_driven with the python stock-driven model. In class, we used the same default normal distribution survival curve of mean=30 and sd=10 to describe the survival & outflow of the stock, and to quantify the required inflows needed to build up and maintain this stock.\n",
    "\n",
    "We didn’t mention this in class, but the reason for this survival curve is that the owner of these plates has a cat at home, and the cat likes to knock things over. Especially things that break. Photographic evidence here: https://www.youtube.com/watch?v=09CC-dYDNMQ\n",
    "\n",
    "So the plate collector has to buy (i.e. inflow) new plates to replace the ones that the cat breaks, and also buy new plates to expand her plate collection.\n"
   ]
  },
  {
   "cell_type": "code",
   "execution_count": null,
   "metadata": {
    "vscode": {
     "languageId": "plaintext"
    }
   },
   "outputs": [],
   "source": []
  },
  {
   "cell_type": "markdown",
   "metadata": {},
   "source": [
    "## Question 4.\n",
    "\n",
    "The ceramic plates collector is worried about running out of space at home. She thinks that she only has room for 503 plates. Change the input stock data from 2030-2050 to 503 plates, and rerun the model with the default normal distribution. Describe the changes to the inflows, outflows, and stocks compared to the default.\n"
   ]
  },
  {
   "cell_type": "code",
   "execution_count": null,
   "metadata": {
    "vscode": {
     "languageId": "plaintext"
    }
   },
   "outputs": [],
   "source": []
  },
  {
   "cell_type": "markdown",
   "metadata": {},
   "source": [
    "---\n"
   ]
  },
  {
   "cell_type": "markdown",
   "metadata": {},
   "source": [
    "## Question 5.\n",
    "\n",
    "The ceramic plates collector is also wondering what would be the implications of giving away her cat to the neighbor (the furniture hoarder from the previous questions). In that case, the plates won’t break anymore until they are old: after exactly 45 years, they simply crumble to dust. Model this with the appropriate pair of survival curve and outflow curve, and compare the inflows, outflows, and stocks in such a case.\n"
   ]
  },
  {
   "cell_type": "code",
   "execution_count": null,
   "metadata": {
    "vscode": {
     "languageId": "plaintext"
    }
   },
   "outputs": [],
   "source": []
  },
  {
   "cell_type": "markdown",
   "metadata": {},
   "source": [
    "---\n"
   ]
  },
  {
   "cell_type": "markdown",
   "metadata": {},
   "source": [
    "## Question 6.\n",
    "\n",
    "In which of the previous two scenarios will the collector have more to buy more plates (i.e. more inflows): if she limits her stock to 503 from 2030 on, or if she keeps accumulating stocks as in the original data but gives away her cat?\n"
   ]
  },
  {
   "cell_type": "code",
   "execution_count": null,
   "metadata": {
    "vscode": {
     "languageId": "plaintext"
    }
   },
   "outputs": [],
   "source": []
  },
  {
   "cell_type": "markdown",
   "metadata": {},
   "source": [
    "---\n"
   ]
  },
  {
   "cell_type": "markdown",
   "metadata": {},
   "source": [
    "Extra questions (Highly recommended to answer before our next class session, but your grade won’t be affected if you don’t submit these in time)\n"
   ]
  },
  {
   "cell_type": "markdown",
   "metadata": {},
   "source": [
    "## (Optional) Question 7.\n",
    "\n",
    "Show that the Python models and Excel models get the same results when you use the same data inputs, or describe any differences.\n"
   ]
  },
  {
   "cell_type": "code",
   "execution_count": null,
   "metadata": {
    "vscode": {
     "languageId": "plaintext"
    }
   },
   "outputs": [],
   "source": []
  },
  {
   "cell_type": "markdown",
   "metadata": {},
   "source": [
    "---\n"
   ]
  },
  {
   "cell_type": "markdown",
   "metadata": {},
   "source": [
    "## (Optional) Question 8.\n",
    "\n",
    "Using the flow-driven model with input data of your choice, add python code to calculate the outflows divided by the stock (outflows/stocks) for every year. This is a useful measure of the % of the total stock that reaches the end-of-life in a given year. Does this measure fluctuate over time, or is it always the same %? Can you find a type of survival curve in which it’s always the same %, regardless of the amounts of flows and stocks?\n"
   ]
  },
  {
   "cell_type": "code",
   "execution_count": null,
   "metadata": {
    "vscode": {
     "languageId": "plaintext"
    }
   },
   "outputs": [],
   "source": []
  }
 ],
 "metadata": {
  "language_info": {
   "name": "python"
  }
 },
 "nbformat": 4,
 "nbformat_minor": 2
}
