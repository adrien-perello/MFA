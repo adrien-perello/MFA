{
 "cells": [
  {
   "cell_type": "markdown",
   "metadata": {},
   "source": [
    "# Load libraries\n"
   ]
  },
  {
   "cell_type": "code",
   "execution_count": 1,
   "metadata": {},
   "outputs": [],
   "source": [
    "import os\n",
    "from pathlib import Path\n",
    "\n",
    "import numpy as np\n",
    "import pandas as pd\n",
    "import matplotlib.pyplot as plt\n",
    "import seaborn as sns\n",
    "from scipy.stats import weibull_min, norm, geom, uniform, lognorm\n",
    "from scipy.linalg import solve"
   ]
  },
  {
   "cell_type": "code",
   "execution_count": 2,
   "metadata": {},
   "outputs": [
    {
     "name": "stdout",
     "output_type": "stream",
     "text": [
      "/home/adrien/Documents/Github/MFA/02_stock_driven_and_surv_curves\n"
     ]
    }
   ],
   "source": [
    "# Set the root directory to be able to access other folders in the project\n",
    "\n",
    "CURR_DIR = os.getcwd()  # current working directory\n",
    "BASE_DIR = Path(CURR_DIR).parent  # parent directory\n",
    "print(BASE_DIR)"
   ]
  },
  {
   "cell_type": "markdown",
   "metadata": {},
   "source": [
    "# Import data\n"
   ]
  },
  {
   "cell_type": "code",
   "execution_count": 3,
   "metadata": {},
   "outputs": [
    {
     "name": "stdout",
     "output_type": "stream",
     "text": [
      "<class 'pandas.core.frame.DataFrame'>\n",
      "RangeIndex: 61 entries, 0 to 60\n",
      "Data columns (total 4 columns):\n",
      " #   Column   Non-Null Count  Dtype  \n",
      "---  ------   --------------  -----  \n",
      " 0   year     61 non-null     int64  \n",
      " 1   stock    61 non-null     int64  \n",
      " 2   inflow   0 non-null      float64\n",
      " 3   outflow  0 non-null      float64\n",
      "dtypes: float64(2), int64(2)\n",
      "memory usage: 2.0 KB\n"
     ]
    }
   ],
   "source": [
    "# Load input data, stock-driven model:\n",
    "# and check your data\n",
    "\n",
    "file_path = BASE_DIR / \"data_input\" / \"MFA_II_tutorial_II.xlsx\"\n",
    "data = pd.read_excel(file_path, sheet_name=\"stock_driven\")\n",
    "data.info()"
   ]
  },
  {
   "cell_type": "code",
   "execution_count": 4,
   "metadata": {},
   "outputs": [
    {
     "name": "stdout",
     "output_type": "stream",
     "text": [
      "end_year = 2050\n"
     ]
    },
    {
     "data": {
      "text/html": [
       "<div>\n",
       "<style scoped>\n",
       "    .dataframe tbody tr th:only-of-type {\n",
       "        vertical-align: middle;\n",
       "    }\n",
       "\n",
       "    .dataframe tbody tr th {\n",
       "        vertical-align: top;\n",
       "    }\n",
       "\n",
       "    .dataframe thead th {\n",
       "        text-align: right;\n",
       "    }\n",
       "</style>\n",
       "<table border=\"1\" class=\"dataframe\">\n",
       "  <thead>\n",
       "    <tr style=\"text-align: right;\">\n",
       "      <th></th>\n",
       "      <th>stock</th>\n",
       "      <th>inflow</th>\n",
       "      <th>outflow</th>\n",
       "    </tr>\n",
       "    <tr>\n",
       "      <th>year</th>\n",
       "      <th></th>\n",
       "      <th></th>\n",
       "      <th></th>\n",
       "    </tr>\n",
       "  </thead>\n",
       "  <tbody>\n",
       "    <tr>\n",
       "      <th>1990</th>\n",
       "      <td>20</td>\n",
       "      <td>NaN</td>\n",
       "      <td>NaN</td>\n",
       "    </tr>\n",
       "    <tr>\n",
       "      <th>1991</th>\n",
       "      <td>21</td>\n",
       "      <td>NaN</td>\n",
       "      <td>NaN</td>\n",
       "    </tr>\n",
       "    <tr>\n",
       "      <th>1992</th>\n",
       "      <td>30</td>\n",
       "      <td>NaN</td>\n",
       "      <td>NaN</td>\n",
       "    </tr>\n",
       "    <tr>\n",
       "      <th>1993</th>\n",
       "      <td>39</td>\n",
       "      <td>NaN</td>\n",
       "      <td>NaN</td>\n",
       "    </tr>\n",
       "    <tr>\n",
       "      <th>1994</th>\n",
       "      <td>45</td>\n",
       "      <td>NaN</td>\n",
       "      <td>NaN</td>\n",
       "    </tr>\n",
       "    <tr>\n",
       "      <th>...</th>\n",
       "      <td>...</td>\n",
       "      <td>...</td>\n",
       "      <td>...</td>\n",
       "    </tr>\n",
       "    <tr>\n",
       "      <th>2046</th>\n",
       "      <td>724</td>\n",
       "      <td>NaN</td>\n",
       "      <td>NaN</td>\n",
       "    </tr>\n",
       "    <tr>\n",
       "      <th>2047</th>\n",
       "      <td>737</td>\n",
       "      <td>NaN</td>\n",
       "      <td>NaN</td>\n",
       "    </tr>\n",
       "    <tr>\n",
       "      <th>2048</th>\n",
       "      <td>750</td>\n",
       "      <td>NaN</td>\n",
       "      <td>NaN</td>\n",
       "    </tr>\n",
       "    <tr>\n",
       "      <th>2049</th>\n",
       "      <td>763</td>\n",
       "      <td>NaN</td>\n",
       "      <td>NaN</td>\n",
       "    </tr>\n",
       "    <tr>\n",
       "      <th>2050</th>\n",
       "      <td>776</td>\n",
       "      <td>NaN</td>\n",
       "      <td>NaN</td>\n",
       "    </tr>\n",
       "  </tbody>\n",
       "</table>\n",
       "<p>61 rows × 3 columns</p>\n",
       "</div>"
      ],
      "text/plain": [
       "      stock  inflow  outflow\n",
       "year                        \n",
       "1990     20     NaN      NaN\n",
       "1991     21     NaN      NaN\n",
       "1992     30     NaN      NaN\n",
       "1993     39     NaN      NaN\n",
       "1994     45     NaN      NaN\n",
       "...     ...     ...      ...\n",
       "2046    724     NaN      NaN\n",
       "2047    737     NaN      NaN\n",
       "2048    750     NaN      NaN\n",
       "2049    763     NaN      NaN\n",
       "2050    776     NaN      NaN\n",
       "\n",
       "[61 rows x 3 columns]"
      ]
     },
     "execution_count": 4,
     "metadata": {},
     "output_type": "execute_result"
    }
   ],
   "source": [
    "# set the index to year\n",
    "data = data.set_index([\"year\"])\n",
    "\n",
    "years = data.index\n",
    "end_year = years[-1]\n",
    "print(f\"end_year = {end_year}\")\n",
    "\n",
    "data"
   ]
  },
  {
   "cell_type": "code",
   "execution_count": 5,
   "metadata": {},
   "outputs": [],
   "source": [
    "data_length = data.shape[0]\n",
    "timesteps = np.arange(0, data_length)"
   ]
  },
  {
   "cell_type": "markdown",
   "metadata": {},
   "source": [
    "# Create a survival curve\n",
    "\n",
    "(if one wasn't supplied as input data)\n",
    "\n",
    "--> see `week_2_tutorial_survival_curves.ipynb` notebook first\n"
   ]
  },
  {
   "cell_type": "code",
   "execution_count": 6,
   "metadata": {},
   "outputs": [
    {
     "data": {
      "image/png": "[encoded data removed]",
      "text/plain": [
       "<Figure size 640x480 with 1 Axes>"
      ]
     },
     "metadata": {},
     "output_type": "display_data"
    }
   ],
   "source": [
    "# Weibull distribution\n",
    "survival_curve = weibull_min.sf(\n",
    "    timesteps,\n",
    "    c=2,  # controls the shape of the curve (skewness)\n",
    "    loc=0,  # shifts the curve along the x-axis (starting point)\n",
    "    scale=30,  # Stretches or compresses the curve along the x-axis (spread)\n",
    ")\n",
    "\n",
    "plt.plot(survival_curve)\n",
    "plt.show()"
   ]
  },
  {
   "cell_type": "markdown",
   "metadata": {},
   "source": [
    "# Create a survival curve matrix\n",
    "\n",
    "--> see `week_2_tutorial_survival_curves.ipynb` notebook first\n"
   ]
  },
  {
   "cell_type": "markdown",
   "metadata": {},
   "source": [
    "![filling_survival_curve_matrix](../../img/filling_survival_curve_matrix.png)\n"
   ]
  },
  {
   "cell_type": "code",
   "execution_count": null,
   "metadata": {},
   "outputs": [],
   "source": [
    "# create survival curve matrix with placeholder zeros\n",
    "survival_curve_matrix = pd.DataFrame(0, index=timesteps, columns=timesteps, dtype=float)\n",
    "\n",
    "# and populate that matrix\n",
    "for year in timesteps:\n",
    "    # at each iteration, we take 1 year less of the survival curve\n",
    "    last_idx = data_length - year\n",
    "    values = survival_curve[0:last_idx]\n",
    "    # and we assign the sliced values to the sliced matrix:\n",
    "    # --> rows: from step to step_max\n",
    "    # --> columns: only the current step\n",
    "    survival_curve_matrix.loc[year:data_length, year] = values\n",
    "\n",
    "survival_curve_matrix"
   ]
  },
  {
   "cell_type": "markdown",
   "metadata": {},
   "source": [
    "# Stock driven model\n"
   ]
  },
  {
   "cell_type": "code",
   "execution_count": null,
   "metadata": {},
   "outputs": [],
   "source": [
    "# This is our model input\n",
    "stock = data[\"stock\"]\n",
    "stock"
   ]
  },
  {
   "cell_type": "markdown",
   "metadata": {},
   "source": [
    "![stock_driven_equations](../../img/stock_driven_equations.png)\n",
    "\n",
    "![filling_stock_driven_cohort_matrix](../../img/filling_stock_driven_cohort.png)\n"
   ]
  },
  {
   "cell_type": "code",
   "execution_count": null,
   "metadata": {},
   "outputs": [],
   "source": [
    "# create inflow series and survival matrix with\n",
    "# placeholder zeros, that we will populate\n",
    "inflows = pd.Series(0, index=years, dtype=float)\n",
    "cohort_matrix = pd.DataFrame(0, index=timesteps, columns=timesteps, dtype=float)"
   ]
  },
  {
   "cell_type": "code",
   "execution_count": null,
   "metadata": {},
   "outputs": [],
   "source": [
    "# start with year = 0, then change it and see\n",
    "# how the other values are updated in the following 2 cells\n",
    "year = 0  # take any value in timesteps [0...60]\n",
    "stock.iloc[year]"
   ]
  },
  {
   "cell_type": "markdown",
   "metadata": {},
   "source": [
    "**Question:**\n",
    "\n",
    "1. What does this value represent?\n"
   ]
  },
  {
   "cell_type": "markdown",
   "metadata": {},
   "source": [
    "**ANSWER**\n"
   ]
  },
  {
   "cell_type": "markdown",
   "metadata": {},
   "source": [
    "...\n"
   ]
  },
  {
   "cell_type": "code",
   "execution_count": null,
   "metadata": {},
   "outputs": [],
   "source": [
    "# For the row, we only take the current year from the cohort matrix\n",
    "# and for the column, we take all of them\n",
    "cohort_matrix.loc[year, :]"
   ]
  },
  {
   "cell_type": "markdown",
   "metadata": {},
   "source": [
    "**Question:**\n",
    "\n",
    "2. What does this array represent? And if we sum it, what does it represent?\n"
   ]
  },
  {
   "cell_type": "markdown",
   "metadata": {},
   "source": [
    "**ANSWER**\n"
   ]
  },
  {
   "cell_type": "markdown",
   "metadata": {},
   "source": [
    "...\n"
   ]
  },
  {
   "cell_type": "code",
   "execution_count": null,
   "metadata": {},
   "outputs": [],
   "source": [
    "survival_curve_matrix.loc[year, year]"
   ]
  },
  {
   "cell_type": "markdown",
   "metadata": {},
   "source": [
    "**Question:**\n",
    "\n",
    "3. What does this value represent? Why do we care about it?\n"
   ]
  },
  {
   "cell_type": "markdown",
   "metadata": {},
   "source": [
    "**ANSWER**\n"
   ]
  },
  {
   "cell_type": "markdown",
   "metadata": {},
   "source": [
    "...\n"
   ]
  },
  {
   "cell_type": "code",
   "execution_count": null,
   "metadata": {},
   "outputs": [],
   "source": [
    "# Now we put it together to populate the cohort_matrix\n",
    "for year in timesteps:\n",
    "    # calculate the difference between current stock and the sum of all\n",
    "    # what remains from previous inflows\n",
    "    difference = stock.iloc[year] - cohort_matrix.loc[year, :].sum()\n",
    "    inflows.iloc[year] = difference / survival_curve_matrix.loc[year, year]\n",
    "    # the line below is the same as for flow driven models\n",
    "    cohort_matrix.loc[:, year] = survival_curve_matrix.loc[:, year] * inflows.iloc[year]\n",
    "\n",
    "cohort_matrix"
   ]
  },
  {
   "cell_type": "code",
   "execution_count": null,
   "metadata": {},
   "outputs": [],
   "source": [
    "# set index and columns to years instead of timesteps\n",
    "cohort_matrix.index = years\n",
    "cohort_matrix.columns = years\n",
    "\n",
    "# and visualize the cohort_matrix matrix with a heatmap\n",
    "sns.heatmap(cohort_matrix, annot=False)"
   ]
  },
  {
   "cell_type": "markdown",
   "metadata": {},
   "source": [
    "$$\\text{NAS}(y) = \\text{stock}(y) - \\text{stock}(y-1)$$\n"
   ]
  },
  {
   "cell_type": "code",
   "execution_count": null,
   "metadata": {},
   "outputs": [],
   "source": [
    "# calculate the net addition to stock\n",
    "# nas =\n",
    "\n",
    "# ! ANSWER"
   ]
  },
  {
   "cell_type": "markdown",
   "metadata": {},
   "source": [
    "$$\\text{outflow}(y) = \\text{inflow}(y) - \\text{NAS}(y)$$\n"
   ]
  },
  {
   "cell_type": "code",
   "execution_count": null,
   "metadata": {},
   "outputs": [],
   "source": [
    "# calculate outflows and nas:\n",
    "# nas =\n",
    "\n",
    "# ! ANSWER"
   ]
  },
  {
   "cell_type": "markdown",
   "metadata": {},
   "source": [
    "# Visualize the results\n"
   ]
  },
  {
   "cell_type": "code",
   "execution_count": null,
   "metadata": {},
   "outputs": [],
   "source": [
    "data[\"stock\"] = stock\n",
    "data[\"outflow\"] = outflows\n",
    "data[\"nas\"] = nas\n",
    "\n",
    "data"
   ]
  },
  {
   "cell_type": "code",
   "execution_count": null,
   "metadata": {},
   "outputs": [],
   "source": [
    "# Visualize on the same plot\n",
    "data.plot()"
   ]
  },
  {
   "cell_type": "code",
   "execution_count": null,
   "metadata": {},
   "outputs": [],
   "source": [
    "# Zooming in the flows and net addition to stock\n",
    "data[[\"inflow\", \"outflow\", \"nas\"]].plot()"
   ]
  },
  {
   "cell_type": "code",
   "execution_count": null,
   "metadata": {},
   "outputs": [],
   "source": [
    "# Visualize the stock by cohort_matrixs\n",
    "cohort_matrix.plot(kind=\"area\", stacked=True, legend=False)"
   ]
  },
  {
   "cell_type": "markdown",
   "metadata": {},
   "source": [
    "# Export output data to Excel\n"
   ]
  },
  {
   "cell_type": "code",
   "execution_count": null,
   "metadata": {},
   "outputs": [],
   "source": [
    "# Save the data to an Excel file\n",
    "# (you may need to create the folder if it doesn't exist)\n",
    "file_path = BASE_DIR / \"data_output\" / \"week_2_tutorial_myname.xlsx\"\n",
    "data.to_excel(file_path, sheet_name=\"stock_driven\")"
   ]
  },
  {
   "cell_type": "code",
   "execution_count": null,
   "metadata": {},
   "outputs": [],
   "source": [
    "# But we also want to save the cohort_matrix data in the same excel file\n",
    "# without overwriting the file.\n",
    "# To do that, we open an Excel file in append mode ('a')\n",
    "# https://pandas.pydata.org/docs/reference/api/pandas.ExcelWriter.html\n",
    "\n",
    "with pd.ExcelWriter(file_path, mode=\"a\") as writer:\n",
    "    cohort_matrix.to_excel(writer, sheet_name=\"cohort_matrix_stock_driven\")"
   ]
  },
  {
   "cell_type": "markdown",
   "metadata": {},
   "source": [
    "---\n"
   ]
  },
  {
   "cell_type": "markdown",
   "metadata": {},
   "source": [
    "# Going further\n",
    "\n",
    "--> We saw in `week_2_tutorial_survival_curves.ipynb` notebook that we could also define the `survival_curve` and the `survival_curve_matrix` as follows:\n"
   ]
  },
  {
   "cell_type": "code",
   "execution_count": null,
   "metadata": {},
   "outputs": [],
   "source": [
    "# Instead of a numpy array, we store the survival curve\n",
    "# as a pandas Series with the appropriate index (= years)\n",
    "sf = pd.Series(survival_curve, index=years)\n",
    "\n",
    "# create survival curve matrix with placeholder zeros (same as before)\n",
    "survival_curve_matrix2 = pd.DataFrame(0, index=years, columns=years, dtype=float)\n",
    "\n",
    "# populate the survival curve matrix with shifted curves, column by column using slices\n",
    "# ! This time we use the years as index instead of the timesteps\n",
    "for counter, year in enumerate(years):\n",
    "    # at each iteration, we take 1 year less of the survival curve\n",
    "    last_idx = end_year - counter\n",
    "    values = sf.loc[:last_idx].values\n",
    "    # and we assign the sliced values to the sliced matrix:\n",
    "    # --> rows: from current year to the end year\n",
    "    # --> columns: only the current year\n",
    "    survival_curve_matrix2.loc[year:end_year, year] = values"
   ]
  },
  {
   "cell_type": "markdown",
   "metadata": {},
   "source": [
    "Now let's utilize numpy and pandas capacities to **optimize** our stock driven model\n"
   ]
  },
  {
   "cell_type": "markdown",
   "metadata": {},
   "source": [
    "There are different types of matrix multiplications:\n",
    "\n",
    "- the **dot product** (using the `np.dot()` function or the `@` operator)?\n",
    "- the **element-wise matrix multiplication** (`np.multiply()` function or `*` operator)\n",
    "\n",
    "The **dot product** does the following:\n",
    "\n",
    "$$\n",
    "\\begin{bmatrix}\n",
    "a_{11} & a_{12} & a_{13} \\\\\n",
    "a_{21} & a_{22} & a_{23} \\\\\n",
    "a_{31} & a_{32} & a_{33} \\\\\n",
    "\\end{bmatrix}\n",
    "\\cdot\n",
    "\\begin{bmatrix}\n",
    "f_1 \\\\\n",
    "f_2 \\\\\n",
    "f_3\n",
    "\\end{bmatrix}\n",
    "=\n",
    "\\begin{bmatrix}\n",
    "a_{11} f_1 + a_{12} f_2  + a_{13} f_3  \\\\\n",
    "a_{21} f_1 + a_{22} f_2  + a_{23} f_3  \\\\\n",
    "a_{31} f_1 + a_{32} f_2  + a_{33} f_3  \\\\\n",
    "\\end{bmatrix}\n",
    "$$\n",
    "\n",
    "Now assuming that\n",
    "\n",
    "- the matrix $\\mathbf{A}$ represents the `survival_curve_matrix`\n",
    "- and the vector $\\mathbf{f}$ represents the `inflows`,\n",
    "\n",
    "we get:\n",
    "\n",
    "$$\n",
    "\\begin{bmatrix}\n",
    "a_{1} & 0 & 0 \\\\\n",
    "a_{2} & a_{1} & 0 \\\\\n",
    "a_{3} & a_{2} & a_{1} \\\\\n",
    "\\end{bmatrix}\n",
    "\\cdot\n",
    "\\begin{bmatrix}\n",
    "f_1 \\\\\n",
    "f_2 \\\\\n",
    "f_3\n",
    "\\end{bmatrix}\n",
    "=\n",
    "\\begin{bmatrix}\n",
    "a_{1} f_1 \\\\\n",
    "a_{2} f_1 + a_{1} f_2  \\\\\n",
    "a_{3} f_1 + a_{2} f_2  + a_{1} f_3  \\\\\n",
    "\\end{bmatrix}\n",
    "$$\n",
    "\n",
    "You may recognize the `stock` vector $\\mathbf{s}$ as the result\n",
    "\n",
    "In other words, we have the following system of linear equations:\n",
    "\n",
    "$$\n",
    "\\begin{align}\n",
    "\\mathbf{A} \\cdot \\mathbf{f} &= \\mathbf{s} \\\\\n",
    "\\mathbf{f} &= \\mathbf{A}^{-1} \\cdot \\mathbf{s}\n",
    "\\end{align}\n",
    "$$\n",
    "\n",
    "And `scipy.linalg.solve()` can help us solve it\n",
    "\n",
    "$$\\mathbf{f} = \\text{solve}(\\mathbf{A}, \\mathbf{s})$$\n"
   ]
  },
  {
   "cell_type": "code",
   "execution_count": null,
   "metadata": {},
   "outputs": [],
   "source": [
    "# the linear algebra library in scipy allows us to solve this\n",
    "# but it returns a numpy array, so we convert it into a Pandas Series\n",
    "inflows2 = solve(survival_curve_matrix2, stock)\n",
    "inflows2 = pd.Series(inflows2, index=years)\n",
    "inflows2"
   ]
  },
  {
   "cell_type": "code",
   "execution_count": null,
   "metadata": {},
   "outputs": [],
   "source": [
    "# Check that they are indeed the same\n",
    "# always use np.allclose() instead of == to compare floats\n",
    "np.allclose(inflows2, inflows)"
   ]
  },
  {
   "cell_type": "markdown",
   "metadata": {},
   "source": [
    "# More information and tips\n"
   ]
  },
  {
   "cell_type": "markdown",
   "metadata": {},
   "source": [
    "- [Statistical functions in scipy.stats](https://docs.scipy.org/doc/scipy/reference/stats.html)\n",
    "- the `enumerate()` function on [W3school](https://www.w3schools.com/python/ref_func_enumerate.asp) or [Programiz](https://www.programiz.com/python-programming/methods/built-in/enumerate)\n",
    "- [Pandas excel writer](https://pandas.pydata.org/docs/reference/api/pandas.ExcelWriter.html)\n",
    "- Difference between `np.dot()`, `np.multiply()` and `np.matmul()` on [codeacademy](https://www.codecademy.com/article/numpy-matrix-multiplication-a-beginners-guide) or [digitalocean](https://www.digitalocean.com/community/tutorials/numpy-matrix-multiplication)\n",
    "- [Scipy Solver](https://docs.scipy.org/doc/scipy/reference/generated/scipy.linalg.solve.html) from the [Linear Algebra library](https://docs.scipy.org/doc/scipy/reference/linalg.html)\n"
   ]
  }
 ],
 "metadata": {
  "kernelspec": {
   "display_name": "dmfa",
   "language": "python",
   "name": "python3"
  },
  "language_info": {
   "codemirror_mode": {
    "name": "ipython",
    "version": 3
   },
   "file_extension": ".py",
   "mimetype": "text/x-python",
   "name": "python",
   "nbconvert_exporter": "python",
   "pygments_lexer": "ipython3",
   "version": "3.13.2"
  }
 },
 "nbformat": 4,
 "nbformat_minor": 2
}
